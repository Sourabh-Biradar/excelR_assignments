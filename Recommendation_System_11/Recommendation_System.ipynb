{
 "cells": [
  {
   "cell_type": "code",
   "execution_count": 39,
   "id": "2f25d9ee-5329-4c90-8922-331100320cfb",
   "metadata": {},
   "outputs": [],
   "source": [
    "# Assignment 11\n",
    "\n",
    "# Recommendation System "
   ]
  },
  {
   "cell_type": "code",
   "execution_count": 40,
   "id": "8132a1be-f59f-4a6d-b5ab-a27e6a5d8532",
   "metadata": {},
   "outputs": [
    {
     "data": {
      "text/html": [
       "<div>\n",
       "<style scoped>\n",
       "    .dataframe tbody tr th:only-of-type {\n",
       "        vertical-align: middle;\n",
       "    }\n",
       "\n",
       "    .dataframe tbody tr th {\n",
       "        vertical-align: top;\n",
       "    }\n",
       "\n",
       "    .dataframe thead th {\n",
       "        text-align: right;\n",
       "    }\n",
       "</style>\n",
       "<table border=\"1\" class=\"dataframe\">\n",
       "  <thead>\n",
       "    <tr style=\"text-align: right;\">\n",
       "      <th></th>\n",
       "      <th>anime_id</th>\n",
       "      <th>name</th>\n",
       "      <th>genre</th>\n",
       "      <th>type</th>\n",
       "      <th>episodes</th>\n",
       "      <th>rating</th>\n",
       "      <th>members</th>\n",
       "    </tr>\n",
       "  </thead>\n",
       "  <tbody>\n",
       "    <tr>\n",
       "      <th>0</th>\n",
       "      <td>32281</td>\n",
       "      <td>Kimi no Na wa.</td>\n",
       "      <td>Drama, Romance, School, Supernatural</td>\n",
       "      <td>Movie</td>\n",
       "      <td>1</td>\n",
       "      <td>9.37</td>\n",
       "      <td>200630</td>\n",
       "    </tr>\n",
       "    <tr>\n",
       "      <th>1</th>\n",
       "      <td>5114</td>\n",
       "      <td>Fullmetal Alchemist: Brotherhood</td>\n",
       "      <td>Action, Adventure, Drama, Fantasy, Magic, Mili...</td>\n",
       "      <td>TV</td>\n",
       "      <td>64</td>\n",
       "      <td>9.26</td>\n",
       "      <td>793665</td>\n",
       "    </tr>\n",
       "    <tr>\n",
       "      <th>2</th>\n",
       "      <td>28977</td>\n",
       "      <td>Gintama°</td>\n",
       "      <td>Action, Comedy, Historical, Parody, Samurai, S...</td>\n",
       "      <td>TV</td>\n",
       "      <td>51</td>\n",
       "      <td>9.25</td>\n",
       "      <td>114262</td>\n",
       "    </tr>\n",
       "    <tr>\n",
       "      <th>3</th>\n",
       "      <td>9253</td>\n",
       "      <td>Steins;Gate</td>\n",
       "      <td>Sci-Fi, Thriller</td>\n",
       "      <td>TV</td>\n",
       "      <td>24</td>\n",
       "      <td>9.17</td>\n",
       "      <td>673572</td>\n",
       "    </tr>\n",
       "    <tr>\n",
       "      <th>4</th>\n",
       "      <td>9969</td>\n",
       "      <td>Gintama&amp;#039;</td>\n",
       "      <td>Action, Comedy, Historical, Parody, Samurai, S...</td>\n",
       "      <td>TV</td>\n",
       "      <td>51</td>\n",
       "      <td>9.16</td>\n",
       "      <td>151266</td>\n",
       "    </tr>\n",
       "  </tbody>\n",
       "</table>\n",
       "</div>"
      ],
      "text/plain": [
       "   anime_id                              name  \\\n",
       "0     32281                    Kimi no Na wa.   \n",
       "1      5114  Fullmetal Alchemist: Brotherhood   \n",
       "2     28977                          Gintama°   \n",
       "3      9253                       Steins;Gate   \n",
       "4      9969                     Gintama&#039;   \n",
       "\n",
       "                                               genre   type episodes  rating  \\\n",
       "0               Drama, Romance, School, Supernatural  Movie        1    9.37   \n",
       "1  Action, Adventure, Drama, Fantasy, Magic, Mili...     TV       64    9.26   \n",
       "2  Action, Comedy, Historical, Parody, Samurai, S...     TV       51    9.25   \n",
       "3                                   Sci-Fi, Thriller     TV       24    9.17   \n",
       "4  Action, Comedy, Historical, Parody, Samurai, S...     TV       51    9.16   \n",
       "\n",
       "   members  \n",
       "0   200630  \n",
       "1   793665  \n",
       "2   114262  \n",
       "3   673572  \n",
       "4   151266  "
      ]
     },
     "execution_count": 40,
     "metadata": {},
     "output_type": "execute_result"
    }
   ],
   "source": [
    "import pandas as pd\n",
    "\n",
    "df = pd.read_csv('anime.csv')\n",
    "df.head()"
   ]
  },
  {
   "cell_type": "code",
   "execution_count": 41,
   "id": "ad2601d2-9d1b-4d96-bfb4-169b24e43d2e",
   "metadata": {},
   "outputs": [
    {
     "name": "stdout",
     "output_type": "stream",
     "text": [
      "<class 'pandas.core.frame.DataFrame'>\n",
      "RangeIndex: 12294 entries, 0 to 12293\n",
      "Data columns (total 7 columns):\n",
      " #   Column    Non-Null Count  Dtype  \n",
      "---  ------    --------------  -----  \n",
      " 0   anime_id  12294 non-null  int64  \n",
      " 1   name      12294 non-null  object \n",
      " 2   genre     12232 non-null  object \n",
      " 3   type      12269 non-null  object \n",
      " 4   episodes  12294 non-null  object \n",
      " 5   rating    12064 non-null  float64\n",
      " 6   members   12294 non-null  int64  \n",
      "dtypes: float64(1), int64(2), object(4)\n",
      "memory usage: 672.5+ KB\n"
     ]
    }
   ],
   "source": [
    "df.info()"
   ]
  },
  {
   "cell_type": "code",
   "execution_count": 42,
   "id": "78ab8d15-44bb-454c-8976-b435f33f58dd",
   "metadata": {},
   "outputs": [
    {
     "data": {
      "text/plain": [
       "anime_id      0\n",
       "name          0\n",
       "genre        62\n",
       "type         25\n",
       "episodes      0\n",
       "rating      230\n",
       "members       0\n",
       "dtype: int64"
      ]
     },
     "execution_count": 42,
     "metadata": {},
     "output_type": "execute_result"
    }
   ],
   "source": [
    "df.isnull().sum()"
   ]
  },
  {
   "cell_type": "code",
   "execution_count": 43,
   "id": "2db2b5b8-b0b9-4913-b042-8d9c0d86ae30",
   "metadata": {},
   "outputs": [],
   "source": [
    "# imputing missing values\n",
    "\n",
    "df['genre'] =df['genre'].fillna('Unknown')\n",
    "df['type'] = df['type'].fillna('Unknown')\n",
    "\n",
    "df['rating'] = df['rating'].fillna(df['rating'].median())"
   ]
  },
  {
   "cell_type": "code",
   "execution_count": 44,
   "id": "1d26f60d-901c-4e97-8b3b-fd43b670e5ca",
   "metadata": {},
   "outputs": [],
   "source": [
    "# object to numerical \n",
    "# handling missing\n",
    "\n",
    "df['episodes'] = pd.to_numeric(df['episodes'],errors='coerce')\n",
    "\n",
    "df['episodes'] = df['episodes'].fillna(df['episodes'].median()).astype(int)"
   ]
  },
  {
   "cell_type": "code",
   "execution_count": 45,
   "id": "35931ce2-c56a-40d1-8733-0135d713a737",
   "metadata": {},
   "outputs": [
    {
     "name": "stdout",
     "output_type": "stream",
     "text": [
      "<class 'pandas.core.frame.DataFrame'>\n",
      "RangeIndex: 12294 entries, 0 to 12293\n",
      "Data columns (total 7 columns):\n",
      " #   Column    Non-Null Count  Dtype  \n",
      "---  ------    --------------  -----  \n",
      " 0   anime_id  12294 non-null  int64  \n",
      " 1   name      12294 non-null  object \n",
      " 2   genre     12294 non-null  object \n",
      " 3   type      12294 non-null  object \n",
      " 4   episodes  12294 non-null  int64  \n",
      " 5   rating    12294 non-null  float64\n",
      " 6   members   12294 non-null  int64  \n",
      "dtypes: float64(1), int64(3), object(3)\n",
      "memory usage: 672.5+ KB\n"
     ]
    },
    {
     "data": {
      "text/plain": [
       "(anime_id    0\n",
       " name        0\n",
       " genre       0\n",
       " type        0\n",
       " episodes    0\n",
       " rating      0\n",
       " members     0\n",
       " dtype: int64,\n",
       " None)"
      ]
     },
     "execution_count": 45,
     "metadata": {},
     "output_type": "execute_result"
    }
   ],
   "source": [
    "df.isnull().sum() , df.info()"
   ]
  },
  {
   "cell_type": "code",
   "execution_count": 46,
   "id": "244ac029-429b-4d16-a5bf-619acecc12c2",
   "metadata": {},
   "outputs": [],
   "source": [
    "# Normalizing\n",
    "from sklearn.preprocessing import MinMaxScaler\n",
    "\n",
    "scaler = MinMaxScaler()\n",
    "scaled_rating = scaler.fit_transform(df[['rating']])\n",
    "scaled_members = scaler.fit_transform(df[['members']])"
   ]
  },
  {
   "cell_type": "code",
   "execution_count": 47,
   "id": "e56e889b-428b-43fe-8507-f1dc911e0eb8",
   "metadata": {},
   "outputs": [],
   "source": [
    "# Feature Extraction\n",
    "from sklearn.feature_extraction.text import TfidfVectorizer\n",
    "\n",
    "tfidf = TfidfVectorizer(stop_words='english')\n",
    "tfidf_matrix = tfidf.fit_transform(df['genre'])"
   ]
  },
  {
   "cell_type": "code",
   "execution_count": 48,
   "id": "8cc45a05-7a25-47de-9863-1361b28eced0",
   "metadata": {},
   "outputs": [],
   "source": [
    "# combining features \n",
    "\n",
    "import numpy as np\n",
    "\n",
    "tfidf_dense = tfidf_matrix.toarray()\n",
    "\n",
    "combined_features = np.hstack((tfidf_dense, scaled_rating, scaled_members))"
   ]
  },
  {
   "cell_type": "code",
   "execution_count": 49,
   "id": "5e67b47d-60bd-4b11-bdc0-abe63d82529c",
   "metadata": {},
   "outputs": [],
   "source": [
    "# Cosine Similarity\n",
    "from sklearn.metrics.pairwise import cosine_similarity\n",
    "\n",
    "similarity = cosine_similarity(combined_features, combined_features)"
   ]
  },
  {
   "cell_type": "code",
   "execution_count": 50,
   "id": "8a75668e-e65a-48da-98a1-10f09d30289c",
   "metadata": {},
   "outputs": [],
   "source": [
    "# Recommendation func\n",
    "def get_recommendations(title, similarity=similarity):\n",
    "    \n",
    "    idx = df[df['name'] == title].index[0]\n",
    "\n",
    "    sim_scores = list(enumerate(similarity[idx]))                             # Get the pairwise similarity scores of all anime with that anime\n",
    "\n",
    "    sim_scores = sorted(sim_scores, key=lambda x: x[1], reverse=True)         # Sort the anime based on the similarity scores\n",
    "\n",
    "    sim_scores = sim_scores[1:11]                                             # Get the scores of the 10 most similar anime\n",
    "\n",
    "    anime_indices = [i[0] for i in sim_scores]                                # Get the anime indices\n",
    "\n",
    "    return df[['anime_id','name']].iloc[anime_indices]                        # Return the top 10 most similar anime\n",
    "\n",
    "    "
   ]
  },
  {
   "cell_type": "code",
   "execution_count": 51,
   "id": "a4e3710c-881f-43bd-8e39-351b4f9d4995",
   "metadata": {},
   "outputs": [
    {
     "name": "stdout",
     "output_type": "stream",
     "text": [
      "Top 10 Recommendations :\n",
      "   anime_id                                               name\n",
      "0     10067                     Angel Beats!: Another Epilogue\n",
      "1     32281                                     Kimi no Na wa.\n",
      "2      8728  Code Geass: Hangyaku no Lelouch - Kiseki no Bi...\n",
      "3       547                        Wind: A Breath of Heart OVA\n",
      "4       546                       Wind: A Breath of Heart (TV)\n",
      "5     18881  Code Geass: Hangyaku no Lelouch - Kiseki no Bi...\n",
      "6     14669              Aura: Maryuuin Kouga Saigo no Tatakai\n",
      "7       344                                   Futatsu no Spica\n",
      "8     10389                                   Momo e no Tegami\n",
      "9      3001                                         Moyashimon\n"
     ]
    }
   ],
   "source": [
    "recommendations = get_recommendations('Harmonie')\n",
    "\n",
    "recommendations.reset_index(drop=True, inplace=True)\n",
    "\n",
    "print(f\"Top 10 Recommendations :\\n{recommendations}\")"
   ]
  },
  {
   "cell_type": "markdown",
   "id": "681ef7d8-e967-45ea-8fb8-4def0954370c",
   "metadata": {},
   "source": [
    "#### Interview Questions\n",
    "\n",
    "* Cosine similarity :\n",
    "   - This method calculates the cosine of the angle between the feature vectors of two anime.\n",
    "   - cosine similarity closer to 1 (smaller angle) means the anime are more similar.\n",
    "     \n",
    "1. - User CF :\n",
    "       - Finds users who are similar to the target user & recommends items that those similar users liked.\n",
    "   - Item CF :\n",
    "       - Finds items similar to what the user liked & recommends those items.\n",
    "\n",
    "2. Collaborative Filtering (CF) :\n",
    "\n",
    "   - technique used by recommendation systems to make automatic FILTERING the interests of a user by collecting preferences or taste information from many users (COLLABRATING).\n",
    "   - The underlying assumption is that if two users have agreed in the past, they are likely to agree again in the future."
   ]
  }
 ],
 "metadata": {
  "kernelspec": {
   "display_name": "Python 3 (ipykernel)",
   "language": "python",
   "name": "python3"
  },
  "language_info": {
   "codemirror_mode": {
    "name": "ipython",
    "version": 3
   },
   "file_extension": ".py",
   "mimetype": "text/x-python",
   "name": "python",
   "nbconvert_exporter": "python",
   "pygments_lexer": "ipython3",
   "version": "3.13.5"
  }
 },
 "nbformat": 4,
 "nbformat_minor": 5
}
