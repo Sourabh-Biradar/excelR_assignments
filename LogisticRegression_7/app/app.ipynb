{
 "cells": [
  {
   "cell_type": "code",
   "execution_count": null,
   "id": "c3a5efc5-a727-420f-8c8b-600ade78a0f5",
   "metadata": {},
   "outputs": [],
   "source": [
    "import streamlit as st\n",
    "import pandas as pd\n",
    "import dill\n",
    "\n",
    "with open(\"preprocessor.pkl\", \"rb\") as f:\n",
    "    preprocessor = dill.load(f)\n",
    "\n",
    "with open(\"model.pkl\", \"rb\") as f:\n",
    "    model = dill.load(f)\n",
    "\n",
    "st.title(\"Titanic Survival Predictor\")\n",
    "\n",
    "st.write(\"Enter passenger details below to predict survival:\")\n",
    "\n",
    "pclass = st.selectbox(\"Passenger Class\", [1, 2, 3])\n",
    "sex = st.selectbox(\"Sex\", [\"male\", \"female\"])\n",
    "age = st.number_input(\"Age\", min_value=0, max_value=100, value=30)\n",
    "sibsp = st.number_input(\"Number of Siblings/Spouses Aboard (SibSp)\", min_value=0, max_value=10, value=0)\n",
    "parch = st.number_input(\"Number of Parents/Children Aboard (Parch)\", min_value=0, max_value=10, value=0)\n",
    "fare = st.number_input(\"Fare\", min_value=0.0, value=32.0)\n",
    "embarked = st.selectbox(\"Port of Embarkation\", [\"C\", \"Q\", \"S\"])\n",
    "\n",
    "if st.button(\"Predict Survival\"):\n",
    "    input_df = pd.DataFrame([{\n",
    "        \"Pclass\": pclass,\n",
    "        \"Sex\": sex,\n",
    "        \"Age\": age,\n",
    "        \"SibSp\": sibsp,\n",
    "        \"Parch\": parch,\n",
    "        \"Fare\": fare,\n",
    "        \"Embarked\": embarked\n",
    "    }])\n",
    "\n",
    "    X_input = preprocessor.transform(input_df)\n",
    "\n",
    "    prediction = model.predict(X_input)[0]\n",
    "\n",
    "    if prediction == 1:\n",
    "        st.success(\"Passenger would have SURVIVED!\")\n",
    "    else:\n",
    "        st.error(\"Passenger would NOT have survived.\")\n"
   ]
  }
 ],
 "metadata": {
  "kernelspec": {
   "display_name": "Python 3 (ipykernel)",
   "language": "python",
   "name": "python3"
  },
  "language_info": {
   "codemirror_mode": {
    "name": "ipython",
    "version": 3
   },
   "file_extension": ".py",
   "mimetype": "text/x-python",
   "name": "python",
   "nbconvert_exporter": "python",
   "pygments_lexer": "ipython3",
   "version": "3.13.5"
  }
 },
 "nbformat": 4,
 "nbformat_minor": 5
}
