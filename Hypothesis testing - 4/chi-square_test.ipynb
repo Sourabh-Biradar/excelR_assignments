{
 "cells": [
  {
   "cell_type": "markdown",
   "id": "a480f29c-25cb-44b7-9c69-1b1942de65a8",
   "metadata": {},
   "source": [
    "Assignment 4(a)\n",
    "\n",
    "Chi-square test for independence\n",
    "\n",
    "The Chi-square test for independence determines if two categorical variables have significant relationship between them or not.\n",
    "It compares observed frequencies with expected frequencies under the null hypothesis of independence.\n",
    "\n",
    "Null Hypotheses (H0): The variables are independent.\n",
    "\n",
    "Alternative Hypotheses (H1): The variables have significant relatioship."
   ]
  },
  {
   "cell_type": "code",
   "execution_count": 6,
   "id": "af4e99db-8bea-4085-90a3-ad4c3a0d9a85",
   "metadata": {},
   "outputs": [
    {
     "data": {
      "text/html": [
       "<div>\n",
       "<style scoped>\n",
       "    .dataframe tbody tr th:only-of-type {\n",
       "        vertical-align: middle;\n",
       "    }\n",
       "\n",
       "    .dataframe tbody tr th {\n",
       "        vertical-align: top;\n",
       "    }\n",
       "\n",
       "    .dataframe thead th {\n",
       "        text-align: right;\n",
       "    }\n",
       "</style>\n",
       "<table border=\"1\" class=\"dataframe\">\n",
       "  <thead>\n",
       "    <tr style=\"text-align: right;\">\n",
       "      <th></th>\n",
       "      <th>Smart Thermostat</th>\n",
       "      <th>Smart Light</th>\n",
       "    </tr>\n",
       "  </thead>\n",
       "  <tbody>\n",
       "    <tr>\n",
       "      <th>Very Satisfied</th>\n",
       "      <td>50</td>\n",
       "      <td>70</td>\n",
       "    </tr>\n",
       "    <tr>\n",
       "      <th>Satisfied</th>\n",
       "      <td>80</td>\n",
       "      <td>100</td>\n",
       "    </tr>\n",
       "    <tr>\n",
       "      <th>Neutral</th>\n",
       "      <td>60</td>\n",
       "      <td>90</td>\n",
       "    </tr>\n",
       "    <tr>\n",
       "      <th>Unsatisfied</th>\n",
       "      <td>30</td>\n",
       "      <td>50</td>\n",
       "    </tr>\n",
       "    <tr>\n",
       "      <th>Very Unsatisfied</th>\n",
       "      <td>20</td>\n",
       "      <td>50</td>\n",
       "    </tr>\n",
       "  </tbody>\n",
       "</table>\n",
       "</div>"
      ],
      "text/plain": [
       "                  Smart Thermostat  Smart Light\n",
       "Very Satisfied                  50           70\n",
       "Satisfied                       80          100\n",
       "Neutral                         60           90\n",
       "Unsatisfied                     30           50\n",
       "Very Unsatisfied                20           50"
      ]
     },
     "execution_count": 6,
     "metadata": {},
     "output_type": "execute_result"
    }
   ],
   "source": [
    "import pandas as pd\n",
    "\n",
    "score = ['Very Satisfied' ,'Satisfied','Neutral','Unsatisfied','Very Unsatisfied']\n",
    "\n",
    "data = {'Smart Thermostat':[50,80,60,30,20],'Smart Light':[70,100,90,50,50]}\n",
    "\n",
    "df = pd.DataFrame(data,index=score)\n",
    "\n",
    "df\n",
    "# df = observed frequencies"
   ]
  },
  {
   "cell_type": "code",
   "execution_count": 38,
   "id": "200b34a0-f27a-4699-af0b-e216ca64a15e",
   "metadata": {},
   "outputs": [
    {
     "name": "stdout",
     "output_type": "stream",
     "text": [
      "row_total:\n",
      "Very Satisfied      120\n",
      "Satisfied           180\n",
      "Neutral             150\n",
      "Unsatisfied          80\n",
      "Very Unsatisfied     70\n",
      "dtype: int64\n",
      "col_total:\n",
      "Smart Thermostat    240\n",
      "Smart Light         360\n",
      "dtype: int64\n",
      "total :600\n"
     ]
    }
   ],
   "source": [
    "# chi-square stats calculation\n",
    "\n",
    "#chi_sqr_stat = summation((O_freq-E_freq)**2)/E_freq\n",
    "\n",
    "#E_freq = summation(row_total*col_total)/total\n",
    "\n",
    "row_totals = df.sum(axis=1)\n",
    "col_totals = df.sum(axis=0)\n",
    "\n",
    "total = df.values.sum()\n",
    "\n",
    "print(f'row_total:\\n{row_total}')\n",
    "print(f'col_total:\\n{col_total}')\n",
    "print(f'total :{total}')"
   ]
  },
  {
   "cell_type": "code",
   "execution_count": 39,
   "id": "1be5a7fa-ff6d-450a-86d7-ac43ef2421d4",
   "metadata": {},
   "outputs": [
    {
     "name": "stdout",
     "output_type": "stream",
     "text": [
      "Expected Frequencies:\n",
      "                  Smart Thermostat  Smart Light\n",
      "Very Satisfied                48.0         72.0\n",
      "Satisfied                     72.0        108.0\n",
      "Neutral                       60.0         90.0\n",
      "Unsatisfied                   32.0         48.0\n",
      "Very Unsatisfied              28.0         42.0\n"
     ]
    }
   ],
   "source": [
    "# calculating Expected frequencies\n",
    "\n",
    "E_freq = pd.DataFrame(index=df.index, columns=df.columns)\n",
    "\n",
    "for row in df.index:\n",
    "    for col in df.columns:\n",
    "        E_freq.loc[row, col] = (row_totals[row] * col_totals[col]) /total\n",
    "\n",
    "E_freq = E_freq.astype(float)\n",
    "\n",
    "print(f'Expected Frequencies:\\n{E_freq}')"
   ]
  },
  {
   "cell_type": "code",
   "execution_count": 41,
   "id": "9b2043c4-241e-40f9-924b-adfbc5d6a1f8",
   "metadata": {},
   "outputs": [
    {
     "name": "stdout",
     "output_type": "stream",
     "text": [
      "Chi-Square Statistic = 5.6382\n"
     ]
    }
   ],
   "source": [
    "# chi-square stats calculations\n",
    "chi_sqr_stat = 0\n",
    "\n",
    "for row in df.index:\n",
    "    for col in df.columns:\n",
    "        observed_val = df.loc[row, col]\n",
    "        expected_val = E_freq.loc[row, col]\n",
    "        chi_sqr_stat += ((observed_val - expected_val) ** 2) / expected_val\n",
    "\n",
    "print(f\"Chi-Square Statistic = {chi_sqr_stat:.4f}\")"
   ]
  },
  {
   "cell_type": "code",
   "execution_count": 45,
   "id": "1819a56c-bc59-45d8-a99d-a34e54a02fc3",
   "metadata": {},
   "outputs": [
    {
     "name": "stdout",
     "output_type": "stream",
     "text": [
      "Degrees of Freedom = 4\n",
      "P-Value = 0.2278\n"
     ]
    }
   ],
   "source": [
    "# Critical Value calculation\n",
    "from scipy.stats import chi2\n",
    "\n",
    "# significance level : alpha \n",
    "alpha= 0.05 \n",
    "\n",
    "# degrees of freedom (dof) calculation\n",
    "# df= (n_rows - 1) * (n_cols - 1)\n",
    "dof = (5 - 1) * (2 - 1)\n",
    "\n",
    "p_val = 1 - chi2.cdf(chi_sqr_stat, df=dof)\n",
    "\n",
    "print(f\"Degrees of Freedom = {dof}\")\n",
    "print(f\"P-Value = {p_val:.4f}\")"
   ]
  },
  {
   "cell_type": "markdown",
   "id": "c971bae5-d98d-431d-bf03-d327f2261b2e",
   "metadata": {},
   "source": [
    "Conclusion:\n",
    "\n",
    "Since p = P-value > alpha, we fail to reject the null hypothesis H0.\n",
    "There is no significant relationship between product type and customer satisfaction level in this data"
   ]
  }
 ],
 "metadata": {
  "kernelspec": {
   "display_name": "Python 3 (ipykernel)",
   "language": "python",
   "name": "python3"
  },
  "language_info": {
   "codemirror_mode": {
    "name": "ipython",
    "version": 3
   },
   "file_extension": ".py",
   "mimetype": "text/x-python",
   "name": "python",
   "nbconvert_exporter": "python",
   "pygments_lexer": "ipython3",
   "version": "3.13.5"
  }
 },
 "nbformat": 4,
 "nbformat_minor": 5
}
