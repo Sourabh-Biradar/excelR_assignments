{
 "cells": [
  {
   "cell_type": "markdown",
   "id": "b616bc09-9be7-4159-b50c-d61a5e80a7b6",
   "metadata": {},
   "source": [
    "Assignment 4(b)\n",
    "\n",
    "Hypothesis Testing\n",
    "\n",
    "Null Hypothesis H0: The average weekly cost is not greater than the model predicts (Model Mean Weekly Cost = Rs 4000)\n",
    "\n",
    "Alternative Hypothesis H1: The average weekly cost is greater than the model prediction (Model Mean Weekly Cost > Rs 4000)"
   ]
  },
  {
   "cell_type": "code",
   "execution_count": 12,
   "id": "b5eb7725-dc8f-4297-8e40-e87d5cb974a2",
   "metadata": {},
   "outputs": [],
   "source": [
    "import math\n",
    "from scipy.stats import norm\n",
    "\n",
    "# Calculate Test Statistic\n",
    "# Given:\n",
    "sample_mean = 3050               \n",
    "X_mean = 600                     \n",
    "model_mean = 1000 + 5 * X_mean  \n",
    "sigma_X = 25                     # standard deviation of units produced\n",
    "sigma_W = 5 * sigma_X            \n",
    "n = 25                           # sample size"
   ]
  },
  {
   "cell_type": "code",
   "execution_count": 13,
   "id": "78ad49c0-3ca4-42c7-b4c3-ba9f19d25e2c",
   "metadata": {},
   "outputs": [
    {
     "name": "stdout",
     "output_type": "stream",
     "text": [
      "Model Mean Weekly Cost = Rs 4000\n",
      "Standard Error (SE) = 25.00\n",
      "Z = (3050 - 4000) / 25.00 = -38.0000\n",
      "\n"
     ]
    }
   ],
   "source": [
    "#Test Statistic Calculation\n",
    "\n",
    "# Calculate standard error\n",
    "SE = sigma_W / math.sqrt(n)\n",
    "\n",
    "# Calculate test statistic (Z)\n",
    "Z = (sample_mean - model_mean) / SE\n",
    "\n",
    "print(f\"Model Mean Weekly Cost = Rs {model_mean}\")\n",
    "print(f\"Standard Error (SE) = {SE:.2f}\")\n",
    "print(f\"Z = ({sample_mean} - {model_mean}) / {SE:.2f} = {Z:.4f}\\n\")"
   ]
  },
  {
   "cell_type": "code",
   "execution_count": 14,
   "id": "eddd1c17-55d0-4fcc-a920-c4f1c9e374fc",
   "metadata": {},
   "outputs": [
    {
     "name": "stdout",
     "output_type": "stream",
     "text": [
      "Critical Z value = 1.6449\n",
      "\n"
     ]
    }
   ],
   "source": [
    "#Critical Value\n",
    "\n",
    "alpha = 0.05\n",
    "z_critical = norm.ppf(1 - alpha)\n",
    "print(f\"Critical Z value = {z_critical:.4f}\\n\")"
   ]
  },
  {
   "cell_type": "code",
   "execution_count": 15,
   "id": "ced84ce0-2dc4-4b03-a81b-d0ae22e316c2",
   "metadata": {},
   "outputs": [
    {
     "name": "stdout",
     "output_type": "stream",
     "text": [
      "Since Z = -38.0000 ≤ 1.6449, we fail to reject the null hypothesis\n"
     ]
    }
   ],
   "source": [
    "# Decision Making\n",
    "\n",
    "if Z > z_critical:\n",
    "    print(f\"Since Z = {Z:.4f} > {z_critical:.4f}, we reject the null hypothesis\")\n",
    "else:\n",
    "    print(f\"Since Z = {Z:.4f} ≤ {z_critical:.4f}, we fail to reject the null hypothesis\")"
   ]
  },
  {
   "cell_type": "markdown",
   "id": "9d1095f2-f178-4f26-81ac-1f2577466d5e",
   "metadata": {},
   "source": [
    "conclusion:\n",
    "\n",
    "There is not enough statistical evidence to support the claim that weekly operating costs are higher than the model prediction."
   ]
  }
 ],
 "metadata": {
  "kernelspec": {
   "display_name": "Python 3 (ipykernel)",
   "language": "python",
   "name": "python3"
  },
  "language_info": {
   "codemirror_mode": {
    "name": "ipython",
    "version": 3
   },
   "file_extension": ".py",
   "mimetype": "text/x-python",
   "name": "python",
   "nbconvert_exporter": "python",
   "pygments_lexer": "ipython3",
   "version": "3.13.5"
  }
 },
 "nbformat": 4,
 "nbformat_minor": 5
}
