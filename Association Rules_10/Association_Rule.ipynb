{
 "cells": [
  {
   "cell_type": "code",
   "execution_count": 41,
   "id": "2ec2f332-28f0-4548-8f08-92583e3ee33f",
   "metadata": {},
   "outputs": [],
   "source": [
    "# Assignment 10\n",
    "\n",
    "# Association Rule"
   ]
  },
  {
   "cell_type": "code",
   "execution_count": 42,
   "id": "eff29626-02aa-448c-b65b-720ee07c75ac",
   "metadata": {},
   "outputs": [
    {
     "data": {
      "text/html": [
       "<div>\n",
       "<style scoped>\n",
       "    .dataframe tbody tr th:only-of-type {\n",
       "        vertical-align: middle;\n",
       "    }\n",
       "\n",
       "    .dataframe tbody tr th {\n",
       "        vertical-align: top;\n",
       "    }\n",
       "\n",
       "    .dataframe thead th {\n",
       "        text-align: right;\n",
       "    }\n",
       "</style>\n",
       "<table border=\"1\" class=\"dataframe\">\n",
       "  <thead>\n",
       "    <tr style=\"text-align: right;\">\n",
       "      <th></th>\n",
       "      <th>items</th>\n",
       "    </tr>\n",
       "  </thead>\n",
       "  <tbody>\n",
       "    <tr>\n",
       "      <th>0</th>\n",
       "      <td>shrimp,almonds,avocado,vegetables mix,green gr...</td>\n",
       "    </tr>\n",
       "    <tr>\n",
       "      <th>1</th>\n",
       "      <td>burgers,meatballs,eggs</td>\n",
       "    </tr>\n",
       "    <tr>\n",
       "      <th>2</th>\n",
       "      <td>chutney</td>\n",
       "    </tr>\n",
       "    <tr>\n",
       "      <th>3</th>\n",
       "      <td>turkey,avocado</td>\n",
       "    </tr>\n",
       "    <tr>\n",
       "      <th>4</th>\n",
       "      <td>mineral water,milk,energy bar,whole wheat rice...</td>\n",
       "    </tr>\n",
       "  </tbody>\n",
       "</table>\n",
       "</div>"
      ],
      "text/plain": [
       "                                               items\n",
       "0  shrimp,almonds,avocado,vegetables mix,green gr...\n",
       "1                             burgers,meatballs,eggs\n",
       "2                                            chutney\n",
       "3                                     turkey,avocado\n",
       "4  mineral water,milk,energy bar,whole wheat rice..."
      ]
     },
     "execution_count": 42,
     "metadata": {},
     "output_type": "execute_result"
    }
   ],
   "source": [
    "import pandas as pd\n",
    "\n",
    "df = pd.read_excel('Online_retail.xlsx',header=None,names=['items'])\n",
    "\n",
    "df.head()"
   ]
  },
  {
   "cell_type": "code",
   "execution_count": 43,
   "id": "c3d84fce-52db-4275-ac20-c994317032ea",
   "metadata": {},
   "outputs": [
    {
     "name": "stdout",
     "output_type": "stream",
     "text": [
      "<class 'pandas.core.frame.DataFrame'>\n",
      "RangeIndex: 7501 entries, 0 to 7500\n",
      "Data columns (total 1 columns):\n",
      " #   Column  Non-Null Count  Dtype \n",
      "---  ------  --------------  ----- \n",
      " 0   items   7501 non-null   object\n",
      "dtypes: object(1)\n",
      "memory usage: 58.7+ KB\n"
     ]
    }
   ],
   "source": [
    "df.info()"
   ]
  },
  {
   "cell_type": "code",
   "execution_count": 44,
   "id": "fd465899-ceaa-4bec-a3e8-11d48e56aa90",
   "metadata": {},
   "outputs": [
    {
     "data": {
      "text/html": [
       "<div>\n",
       "<style scoped>\n",
       "    .dataframe tbody tr th:only-of-type {\n",
       "        vertical-align: middle;\n",
       "    }\n",
       "\n",
       "    .dataframe tbody tr th {\n",
       "        vertical-align: top;\n",
       "    }\n",
       "\n",
       "    .dataframe thead th {\n",
       "        text-align: right;\n",
       "    }\n",
       "</style>\n",
       "<table border=\"1\" class=\"dataframe\">\n",
       "  <thead>\n",
       "    <tr style=\"text-align: right;\">\n",
       "      <th></th>\n",
       "      <th>items</th>\n",
       "    </tr>\n",
       "  </thead>\n",
       "  <tbody>\n",
       "    <tr>\n",
       "      <th>0</th>\n",
       "      <td>[shrimp, almonds, avocado, vegetables mix, gre...</td>\n",
       "    </tr>\n",
       "    <tr>\n",
       "      <th>1</th>\n",
       "      <td>[burgers, meatballs, eggs]</td>\n",
       "    </tr>\n",
       "    <tr>\n",
       "      <th>2</th>\n",
       "      <td>[chutney]</td>\n",
       "    </tr>\n",
       "    <tr>\n",
       "      <th>3</th>\n",
       "      <td>[turkey, avocado]</td>\n",
       "    </tr>\n",
       "    <tr>\n",
       "      <th>4</th>\n",
       "      <td>[mineral water, milk, energy bar, whole wheat ...</td>\n",
       "    </tr>\n",
       "  </tbody>\n",
       "</table>\n",
       "</div>"
      ],
      "text/plain": [
       "                                               items\n",
       "0  [shrimp, almonds, avocado, vegetables mix, gre...\n",
       "1                         [burgers, meatballs, eggs]\n",
       "2                                          [chutney]\n",
       "3                                  [turkey, avocado]\n",
       "4  [mineral water, milk, energy bar, whole wheat ..."
      ]
     },
     "execution_count": 44,
     "metadata": {},
     "output_type": "execute_result"
    }
   ],
   "source": [
    "# converting basket to list of items\n",
    "\n",
    "df['items'] = df['items'].apply(lambda x: x.split(','))\n",
    "\n",
    "df.head()"
   ]
  },
  {
   "cell_type": "code",
   "execution_count": 45,
   "id": "0e4720b5-a65d-4feb-b1aa-d1301687c1e2",
   "metadata": {},
   "outputs": [],
   "source": [
    "# Removing duplicates from single purchase (single basket)\n",
    "\n",
    "df['items'] = df['items'].apply(lambda x: list(set(x)))"
   ]
  },
  {
   "cell_type": "code",
   "execution_count": 47,
   "id": "24efafed-097f-455d-8b1f-ed206825e158",
   "metadata": {},
   "outputs": [
    {
     "name": "stdout",
     "output_type": "stream",
     "text": [
      "    asparagus  almonds  antioxydant juice  asparagus  avocado  babies food  \\\n",
      "0       False     True               True      False     True        False   \n",
      "1       False    False              False      False    False        False   \n",
      "2       False    False              False      False    False        False   \n",
      "3       False    False              False      False     True        False   \n",
      "4       False    False              False      False    False        False   \n",
      "\n",
      "   bacon  barbecue sauce  black tea  blueberries  ...  turkey  vegetables mix  \\\n",
      "0  False           False      False        False  ...   False            True   \n",
      "1  False           False      False        False  ...   False           False   \n",
      "2  False           False      False        False  ...   False           False   \n",
      "3  False           False      False        False  ...    True           False   \n",
      "4  False           False      False        False  ...   False           False   \n",
      "\n",
      "   water spray  white wine  whole weat flour  whole wheat pasta  \\\n",
      "0        False       False              True              False   \n",
      "1        False       False             False              False   \n",
      "2        False       False             False              False   \n",
      "3        False       False             False              False   \n",
      "4        False       False             False              False   \n",
      "\n",
      "   whole wheat rice   yams  yogurt cake  zucchini  \n",
      "0             False   True        False     False  \n",
      "1             False  False        False     False  \n",
      "2             False  False        False     False  \n",
      "3             False  False        False     False  \n",
      "4              True  False        False     False  \n",
      "\n",
      "[5 rows x 120 columns]\n"
     ]
    }
   ],
   "source": [
    "# pre-processing\n",
    "\n",
    "from mlxtend.preprocessing import TransactionEncoder\n",
    "\n",
    "transactions = df['items'].tolist()\n",
    "\n",
    "encoder = TransactionEncoder()\n",
    "encoded_array = encoder.fit_transform(transactions)\n",
    "\n",
    "basket = pd.DataFrame(encoded_array, columns=encoder.columns_)\n",
    "\n",
    "print(basket.head())"
   ]
  },
  {
   "cell_type": "code",
   "execution_count": 56,
   "id": "c997355e-8bca-40d7-980b-1d87cabdac37",
   "metadata": {},
   "outputs": [
    {
     "name": "stdout",
     "output_type": "stream",
     "text": [
      "               antecedents      consequents   support  confidence      lift\n",
      "0                (almonds)           (eggs)  0.006532    0.320261  1.782108\n",
      "1                (almonds)  (mineral water)  0.007599    0.372549  1.562914\n",
      "2                (avocado)  (mineral water)  0.011598    0.348000  1.459926\n",
      "3              (black tea)  (mineral water)  0.005333    0.373832  1.568295\n",
      "4                (burgers)           (eggs)  0.028796    0.330275  1.837830\n",
      "5                   (cake)  (mineral water)  0.027463    0.338816  1.421397\n",
      "6                (carrots)  (mineral water)  0.005333    0.347826  1.459197\n",
      "7                (cereals)  (mineral water)  0.010265    0.398964  1.673729\n",
      "8                (chicken)  (mineral water)  0.022797    0.380000  1.594172\n",
      "9              (chocolate)  (mineral water)  0.052660    0.321400  1.348332\n",
      "10          (tomato sauce)      (chocolate)  0.005066    0.358491  2.187988\n",
      "11           (cooking oil)  (mineral water)  0.020131    0.394256  1.653978\n",
      "12           (cooking oil)      (spaghetti)  0.015865    0.310705  1.784531\n",
      "13        (cottage cheese)  (mineral water)  0.009599    0.301255  1.263823\n",
      "14                (turkey)           (eggs)  0.019464    0.311301  1.732245\n",
      "15  (mushroom cream sauce)       (escalope)  0.005733    0.300699  3.790833\n",
      "16                 (pasta)       (escalope)  0.005866    0.372881  4.700812\n",
      "17  (extra dark chocolate)  (mineral water)  0.005733    0.477778  2.004369\n",
      "18           (french wine)  (mineral water)  0.008266    0.366864  1.539064\n",
      "19           (french wine)      (spaghetti)  0.007732    0.343195  1.971139\n"
     ]
    }
   ],
   "source": [
    "# metrics\n",
    "# support , confidence , lift\n",
    "from mlxtend.frequent_patterns import apriori, association_rules\n",
    "\n",
    "frequent_itemsets = apriori(basket, min_support=0.005, use_colnames=True)\n",
    "\n",
    "rules = association_rules(frequent_itemsets, metric=\"confidence\", min_threshold=0.3)\n",
    "\n",
    "# thresholds\n",
    "rules = rules[\n",
    "    (rules['support'] >= 0.005) & \n",
    "    (rules['confidence'] >= 0.3) & \n",
    "    (rules['lift'] >= 1.1)\n",
    "]\n",
    "\n",
    "print(rules[['antecedents','consequents','support','confidence','lift']].head(20))"
   ]
  },
  {
   "cell_type": "markdown",
   "id": "da2deef2-1371-48f7-bed3-0d3768f10ad5",
   "metadata": {},
   "source": [
    "#### interview Questions\n",
    "\n",
    "1. Lift measures how much more likely two items are purchased together than if they were independent (random)\n",
    "\n",
    "   - Lift = 1 : No relationship \n",
    "   - Lift > 1 : Positive correlation\n",
    "   - Lift < 1 : Negative correlation\n",
    "\n",
    "   Confidence may look high just because an item is popular,Lift corrects for this by comparing against expected probability\n",
    "   High lift rules show interesting, non-random relationships\n",
    "\n",
    "   Marketing & Recommendations : Promote bundles of items with high lift\n",
    "   Inventory : Place high-lift items together in stores\n",
    "\n",
    "2. - Support of an itemset = proportion of transactions that contain the itemset\n",
    "\n",
    "     Support(A) = Transactions containing A / Total Transactions\n",
    " \n",
    "     Support(A >> B) = Transactions containing A and B / Total Transactions\n",
    "\t\n",
    "     It tells us how frequent a rule/itemset is in the dataset\n",
    "\n",
    "   - Confidence of rule (A >> B) = probability that a transaction containing A also contains B\n",
    "  \n",
    "     Confidence(A >> B)= Support(A) / Support(A U B)\n",
    "\t\n",
    "     It tells how reliable the rule is.\n",
    "\n",
    "3. - Too Many Rules : Even a medium dataset can generate thousands or millions of rules. Most of which are not useful\n",
    "   - Bias Toward Frequent Items :Popular items always generate strong rules.Confidence can be misleading because it favors frequent items\n",
    "   - Lack of Quantitative Information :Standard ARM treats items as binary (0/1: bought or not bought).Ignores quantity, price,...\n",
    "   - No time/order information :Association rules don’t consider time/order of purchases\n",
    "   - Actionability of results : Some rules are mathematically valid but not useful for business"
   ]
  }
 ],
 "metadata": {
  "kernelspec": {
   "display_name": "Python 3 (ipykernel)",
   "language": "python",
   "name": "python3"
  },
  "language_info": {
   "codemirror_mode": {
    "name": "ipython",
    "version": 3
   },
   "file_extension": ".py",
   "mimetype": "text/x-python",
   "name": "python",
   "nbconvert_exporter": "python",
   "pygments_lexer": "ipython3",
   "version": "3.13.5"
  }
 },
 "nbformat": 4,
 "nbformat_minor": 5
}
