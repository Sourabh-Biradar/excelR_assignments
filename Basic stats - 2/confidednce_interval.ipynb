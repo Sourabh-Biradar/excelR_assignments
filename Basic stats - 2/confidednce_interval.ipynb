{
 "cells": [
  {
   "cell_type": "code",
   "execution_count": 3,
   "id": "31488262-772e-4d93-b849-cdfac8e228f6",
   "metadata": {},
   "outputs": [],
   "source": [
    "# Assignment 2\n",
    "# confidence interval\n",
    "\n",
    "import numpy as np\n",
    "from scipy import stats\n",
    "\n",
    "data = [1.13, 1.55, 1.43, 0.92, 1.25, 1.36, 1.32, 0.85, 1.07, 1.48, 1.20, 1.33, 1.18, 1.22, 1.29]"
   ]
  },
  {
   "cell_type": "markdown",
   "id": "9e48bcad-83f3-477b-b147-9bb917be7952",
   "metadata": {},
   "source": [
    "confidence interval using t-distribution\n",
    "since sample size , n < 30 & population std. deviation is UNKNOWN"
   ]
  },
  {
   "cell_type": "code",
   "execution_count": 7,
   "id": "12c59837-9e66-42ee-a9d3-02ab26b3c003",
   "metadata": {},
   "outputs": [
    {
     "name": "stdout",
     "output_type": "stream",
     "text": [
      "Sample Mean: 1.239 million characters\n",
      "Sample Standard Deviation: 0.193 million characters\n",
      "t-critical value: 2.977\n",
      "Margin of Error: 0.148\n",
      "99% CI: (1.09, 1.387) million characters\n"
     ]
    }
   ],
   "source": [
    "# confidence interval using t-distribution\n",
    "n_mean = np.mean(data)\n",
    "n_std = np.std(data, ddof=1)\n",
    "n = len(data)\n",
    "df = n - 1\n",
    "confidence_level = 0.99\n",
    "alpha = 1 - confidence_level\n",
    "t_critical = stats.t.ppf(1 - alpha/2, df)\n",
    "moe = t_critical * (n_std / np.sqrt(n))\n",
    "ci_lower = n_mean - moe\n",
    "ci_upper = n_mean + moe\n",
    "\n",
    "print(f\"Sample Mean: {np.round(n_mean,3)} million characters\")\n",
    "print(f\"Sample Standard Deviation: {np.round(n_std,3)} million characters\")\n",
    "print(f\"t-critical value: {np.round(t_critical,3)}\")\n",
    "print(f\"Margin of Error: {np.round(moe,3)}\")\n",
    "print(f\"99% CI: ({np.round(ci_lower,3)}, {np.round(ci_upper,3)}) million characters\")"
   ]
  },
  {
   "cell_type": "markdown",
   "id": "b930736a-e478-44a2-8634-4524b09b8a82",
   "metadata": {},
   "source": [
    "confidence interval using z-distribution \n",
    "Even though sample size , n < 30 BUT we know population std. deviation (sigma) is KNOWN"
   ]
  },
  {
   "cell_type": "code",
   "execution_count": 10,
   "id": "c6a108e5-978f-4dd9-9c71-1930ea78daa8",
   "metadata": {},
   "outputs": [
    {
     "name": "stdout",
     "output_type": "stream",
     "text": [
      "Sample Mean: 1.239 million characters\n",
      "Population Standard Deviation: 0.2 million characters\n",
      "z-critical value: 2.576\n",
      "Margin of Error: 0.133\n",
      "99% CI: (1.106, 1.372) million characters\n"
     ]
    }
   ],
   "source": [
    "# confidence interval using t-distribution \n",
    "sigma = 0.2\n",
    "z_critical = stats.norm.ppf(1 - alpha/2)\n",
    "moe_z = z_critical * (sigma / np.sqrt(n))\n",
    "ci_lower_z = n_mean - moe_z\n",
    "ci_upper_z = n_mean + moe_z\n",
    "\n",
    "print(f\"Sample Mean: {np.round(n_mean,3)} million characters\")\n",
    "print(f\"Population Standard Deviation: {np.round(sigma,3)} million characters\")\n",
    "print(f\"z-critical value: {np.round(z_critical,3)}\")\n",
    "print(f\"Margin of Error: {np.round(moe_z,3)}\")\n",
    "print(f\"99% CI: ({np.round(ci_lower_z,3)}, {np.round(ci_upper_z,3)}) million characters\")"
   ]
  }
 ],
 "metadata": {
  "kernelspec": {
   "display_name": "Python 3 (ipykernel)",
   "language": "python",
   "name": "python3"
  },
  "language_info": {
   "codemirror_mode": {
    "name": "ipython",
    "version": 3
   },
   "file_extension": ".py",
   "mimetype": "text/x-python",
   "name": "python",
   "nbconvert_exporter": "python",
   "pygments_lexer": "ipython3",
   "version": "3.13.5"
  }
 },
 "nbformat": 4,
 "nbformat_minor": 5
}
