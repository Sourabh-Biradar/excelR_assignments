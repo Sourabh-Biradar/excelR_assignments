{
 "cells": [
  {
   "cell_type": "markdown",
   "id": "47c9e683-b12c-457d-9396-93861cfe1561",
   "metadata": {},
   "source": [
    "Assignment 3(e)\n",
    "\n",
    "Python\n",
    "\n",
    "Check for Palindrome"
   ]
  },
  {
   "cell_type": "code",
   "execution_count": 2,
   "id": "04d5769e-3dfb-4acd-952f-b23e57d7171d",
   "metadata": {},
   "outputs": [],
   "source": [
    "def is_palindrome():\n",
    "    text = input(\"Enter string:\")\n",
    "\n",
    "    l = len(text)\n",
    "    for i in range(l//2):\n",
    "        if text[i] != text[l-1-i]:\n",
    "            return False\n",
    "    return True"
   ]
  },
  {
   "cell_type": "code",
   "execution_count": 8,
   "id": "24a259b8-31e1-45ee-93e6-a41649ff814b",
   "metadata": {},
   "outputs": [
    {
     "name": "stdin",
     "output_type": "stream",
     "text": [
      "Enter string: lmml\n"
     ]
    },
    {
     "data": {
      "text/plain": [
       "True"
      ]
     },
     "execution_count": 8,
     "metadata": {},
     "output_type": "execute_result"
    }
   ],
   "source": [
    "is_palindrome()"
   ]
  }
 ],
 "metadata": {
  "kernelspec": {
   "display_name": "Python 3 (ipykernel)",
   "language": "python",
   "name": "python3"
  },
  "language_info": {
   "codemirror_mode": {
    "name": "ipython",
    "version": 3
   },
   "file_extension": ".py",
   "mimetype": "text/x-python",
   "name": "python",
   "nbconvert_exporter": "python",
   "pygments_lexer": "ipython3",
   "version": "3.13.5"
  }
 },
 "nbformat": 4,
 "nbformat_minor": 5
}
