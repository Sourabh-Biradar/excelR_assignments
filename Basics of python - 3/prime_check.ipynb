{
 "cells": [
  {
   "cell_type": "markdown",
   "id": "bfd6fc42-8117-4d9c-bfd7-817bc0f5888e",
   "metadata": {},
   "source": [
    "Assignment 3(a)\n",
    "\n",
    "Python\n",
    "\n",
    "Program that checks whether a given number is prime or not"
   ]
  },
  {
   "cell_type": "code",
   "execution_count": 18,
   "id": "829cb878-fa32-4ca7-a8cd-1b52ef89e6a3",
   "metadata": {},
   "outputs": [],
   "source": [
    "def is_prime(num):\n",
    "    if num <= 1:\n",
    "        print(f\"{num} is not a prime number\")\n",
    "        return False\n",
    "\n",
    "    for i in range(2, int(num ** 0.5) + 1):\n",
    "        if num % i == 0:\n",
    "            return False\n",
    "\n",
    "    return True"
   ]
  },
  {
   "cell_type": "code",
   "execution_count": null,
   "id": "591d1988-bf99-4d93-999e-5352e6cee282",
   "metadata": {},
   "outputs": [],
   "source": [
    "num=int(input(\"Enter a number :\"))\n",
    "\n",
    "is_prime(num)"
   ]
  }
 ],
 "metadata": {
  "kernelspec": {
   "display_name": "Python 3 (ipykernel)",
   "language": "python",
   "name": "python3"
  },
  "language_info": {
   "codemirror_mode": {
    "name": "ipython",
    "version": 3
   },
   "file_extension": ".py",
   "mimetype": "text/x-python",
   "name": "python",
   "nbconvert_exporter": "python",
   "pygments_lexer": "ipython3",
   "version": "3.13.5"
  }
 },
 "nbformat": 4,
 "nbformat_minor": 5
}
