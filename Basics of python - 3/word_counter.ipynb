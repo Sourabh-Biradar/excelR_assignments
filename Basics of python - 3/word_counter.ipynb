{
 "cells": [
  {
   "cell_type": "markdown",
   "id": "e1a81f89-ad25-4ab0-87e8-da9c2a9c9a13",
   "metadata": {},
   "source": [
    "Assignment 3(d)\n",
    "\n",
    "Python\n",
    "\n",
    "Word counter"
   ]
  },
  {
   "cell_type": "code",
   "execution_count": 8,
   "id": "d7ef48a6-1019-4231-99b0-7dfced2ee88c",
   "metadata": {},
   "outputs": [],
   "source": [
    "def word_counter():\n",
    "    text = input(\"Enter sentence: \")\n",
    " \n",
    "    words = text.split()\n",
    "    counter = {}\n",
    "    \n",
    "    for word in words:\n",
    "        if word in counter:\n",
    "            counter[word] += 1\n",
    "        else:\n",
    "            counter[word] = 1\n",
    "\n",
    "    for word, count in counter.items():\n",
    "        print(f\"'{word}' : {count}\")"
   ]
  },
  {
   "cell_type": "code",
   "execution_count": null,
   "id": "28bec86b-7b31-4a2a-a512-50deb2d5871e",
   "metadata": {},
   "outputs": [],
   "source": [
    "word_counter()"
   ]
  }
 ],
 "metadata": {
  "kernelspec": {
   "display_name": "Python 3 (ipykernel)",
   "language": "python",
   "name": "python3"
  },
  "language_info": {
   "codemirror_mode": {
    "name": "ipython",
    "version": 3
   },
   "file_extension": ".py",
   "mimetype": "text/x-python",
   "name": "python",
   "nbconvert_exporter": "python",
   "pygments_lexer": "ipython3",
   "version": "3.13.5"
  }
 },
 "nbformat": 4,
 "nbformat_minor": 5
}
