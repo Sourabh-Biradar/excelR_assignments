{
 "cells": [
  {
   "cell_type": "markdown",
   "id": "eeb7585e-ba7e-48d6-849e-73c46556d413",
   "metadata": {},
   "source": [
    "Assignment 3(c)\n",
    "\n",
    "Python\n",
    "\n",
    "Squares of Even/Odd Numbers"
   ]
  },
  {
   "cell_type": "code",
   "execution_count": 5,
   "id": "740f045f-7738-4294-972e-9c066df73751",
   "metadata": {},
   "outputs": [],
   "source": [
    "def even_odd_square():\n",
    "    choice = int(input(\"enter 1 for ODD or 2 for EVEN:\"))\n",
    "    \n",
    "    if choice == 1:\n",
    "        for i in range(100,200):\n",
    "            if i%2!=0:\n",
    "                print(i**2)\n",
    "\n",
    "    if choice == 2:\n",
    "        for i in range(100,201):\n",
    "            if i%2==0:\n",
    "                print(i**2)"
   ]
  },
  {
   "cell_type": "code",
   "execution_count": null,
   "id": "a385ca8f-9b17-426a-ae68-8eed2a898481",
   "metadata": {},
   "outputs": [],
   "source": [
    "even_odd_square()"
   ]
  }
 ],
 "metadata": {
  "kernelspec": {
   "display_name": "Python 3 (ipykernel)",
   "language": "python",
   "name": "python3"
  },
  "language_info": {
   "codemirror_mode": {
    "name": "ipython",
    "version": 3
   },
   "file_extension": ".py",
   "mimetype": "text/x-python",
   "name": "python",
   "nbconvert_exporter": "python",
   "pygments_lexer": "ipython3",
   "version": "3.13.5"
  }
 },
 "nbformat": 4,
 "nbformat_minor": 5
}
