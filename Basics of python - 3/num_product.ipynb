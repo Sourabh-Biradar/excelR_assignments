{
 "cells": [
  {
   "cell_type": "markdown",
   "id": "c85c1765-55be-4f94-b03b-6dee32858285",
   "metadata": {},
   "source": [
    "Assignment 3(b)\n",
    "\n",
    "Python\n",
    "\n",
    "Product of Random Numbers"
   ]
  },
  {
   "cell_type": "code",
   "execution_count": 16,
   "id": "4f7a271b-e29b-4e30-ab5a-3d6b481c64dd",
   "metadata": {},
   "outputs": [],
   "source": [
    "from random import randint\n",
    "\n",
    "def nums_product():\n",
    "    num1 = randint(1,100)\n",
    "    num2 = randint(1,100)\n",
    "    print(f'Whats product of {num1} & {num2} ?')\n",
    "\n",
    "    ans = int(input(\"Enter your answer in NUMBERS:\"))\n",
    "\n",
    "    if num1*num2==ans:\n",
    "        print(\"You are right\")\n",
    "    else:\n",
    "        print(f\"Oops! right answer = {num1*num2}\")"
   ]
  },
  {
   "cell_type": "code",
   "execution_count": 18,
   "id": "3e87121d-b830-46fe-af31-84b798b2eddb",
   "metadata": {},
   "outputs": [
    {
     "name": "stdout",
     "output_type": "stream",
     "text": [
      "Whats product of 10 & 4 ?\n"
     ]
    },
    {
     "name": "stdin",
     "output_type": "stream",
     "text": [
      "Enter your answer in NUMBERS: 39\n"
     ]
    },
    {
     "name": "stdout",
     "output_type": "stream",
     "text": [
      "Oops! right answer = 40\n"
     ]
    }
   ],
   "source": [
    "nums_product()"
   ]
  }
 ],
 "metadata": {
  "kernelspec": {
   "display_name": "Python 3 (ipykernel)",
   "language": "python",
   "name": "python3"
  },
  "language_info": {
   "codemirror_mode": {
    "name": "ipython",
    "version": 3
   },
   "file_extension": ".py",
   "mimetype": "text/x-python",
   "name": "python",
   "nbconvert_exporter": "python",
   "pygments_lexer": "ipython3",
   "version": "3.13.5"
  }
 },
 "nbformat": 4,
 "nbformat_minor": 5
}
