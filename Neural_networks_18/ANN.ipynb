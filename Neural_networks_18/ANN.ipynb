{
 "cells": [
  {
   "cell_type": "code",
   "execution_count": 1,
   "id": "762372ca-c683-4605-968c-a20686c0e692",
   "metadata": {},
   "outputs": [],
   "source": [
    "# Assignment 18\n",
    "\n",
    "# ANN : Artificial Nerral Network"
   ]
  },
  {
   "cell_type": "code",
   "execution_count": 2,
   "id": "3615a1e0-22dc-427d-97e7-2dd1044a34a4",
   "metadata": {},
   "outputs": [
    {
     "data": {
      "text/html": [
       "<div>\n",
       "<style scoped>\n",
       "    .dataframe tbody tr th:only-of-type {\n",
       "        vertical-align: middle;\n",
       "    }\n",
       "\n",
       "    .dataframe tbody tr th {\n",
       "        vertical-align: top;\n",
       "    }\n",
       "\n",
       "    .dataframe thead th {\n",
       "        text-align: right;\n",
       "    }\n",
       "</style>\n",
       "<table border=\"1\" class=\"dataframe\">\n",
       "  <thead>\n",
       "    <tr style=\"text-align: right;\">\n",
       "      <th></th>\n",
       "      <th>letter</th>\n",
       "      <th>xbox</th>\n",
       "      <th>ybox</th>\n",
       "      <th>width</th>\n",
       "      <th>height</th>\n",
       "      <th>onpix</th>\n",
       "      <th>xbar</th>\n",
       "      <th>ybar</th>\n",
       "      <th>x2bar</th>\n",
       "      <th>y2bar</th>\n",
       "      <th>xybar</th>\n",
       "      <th>x2ybar</th>\n",
       "      <th>xy2bar</th>\n",
       "      <th>xedge</th>\n",
       "      <th>xedgey</th>\n",
       "      <th>yedge</th>\n",
       "      <th>yedgex</th>\n",
       "    </tr>\n",
       "  </thead>\n",
       "  <tbody>\n",
       "    <tr>\n",
       "      <th>0</th>\n",
       "      <td>T</td>\n",
       "      <td>2</td>\n",
       "      <td>8</td>\n",
       "      <td>3</td>\n",
       "      <td>5</td>\n",
       "      <td>1</td>\n",
       "      <td>8</td>\n",
       "      <td>13</td>\n",
       "      <td>0</td>\n",
       "      <td>6</td>\n",
       "      <td>6</td>\n",
       "      <td>10</td>\n",
       "      <td>8</td>\n",
       "      <td>0</td>\n",
       "      <td>8</td>\n",
       "      <td>0</td>\n",
       "      <td>8</td>\n",
       "    </tr>\n",
       "    <tr>\n",
       "      <th>1</th>\n",
       "      <td>I</td>\n",
       "      <td>5</td>\n",
       "      <td>12</td>\n",
       "      <td>3</td>\n",
       "      <td>7</td>\n",
       "      <td>2</td>\n",
       "      <td>10</td>\n",
       "      <td>5</td>\n",
       "      <td>5</td>\n",
       "      <td>4</td>\n",
       "      <td>13</td>\n",
       "      <td>3</td>\n",
       "      <td>9</td>\n",
       "      <td>2</td>\n",
       "      <td>8</td>\n",
       "      <td>4</td>\n",
       "      <td>10</td>\n",
       "    </tr>\n",
       "    <tr>\n",
       "      <th>2</th>\n",
       "      <td>D</td>\n",
       "      <td>4</td>\n",
       "      <td>11</td>\n",
       "      <td>6</td>\n",
       "      <td>8</td>\n",
       "      <td>6</td>\n",
       "      <td>10</td>\n",
       "      <td>6</td>\n",
       "      <td>2</td>\n",
       "      <td>6</td>\n",
       "      <td>10</td>\n",
       "      <td>3</td>\n",
       "      <td>7</td>\n",
       "      <td>3</td>\n",
       "      <td>7</td>\n",
       "      <td>3</td>\n",
       "      <td>9</td>\n",
       "    </tr>\n",
       "    <tr>\n",
       "      <th>3</th>\n",
       "      <td>N</td>\n",
       "      <td>7</td>\n",
       "      <td>11</td>\n",
       "      <td>6</td>\n",
       "      <td>6</td>\n",
       "      <td>3</td>\n",
       "      <td>5</td>\n",
       "      <td>9</td>\n",
       "      <td>4</td>\n",
       "      <td>6</td>\n",
       "      <td>4</td>\n",
       "      <td>4</td>\n",
       "      <td>10</td>\n",
       "      <td>6</td>\n",
       "      <td>10</td>\n",
       "      <td>2</td>\n",
       "      <td>8</td>\n",
       "    </tr>\n",
       "    <tr>\n",
       "      <th>4</th>\n",
       "      <td>G</td>\n",
       "      <td>2</td>\n",
       "      <td>1</td>\n",
       "      <td>3</td>\n",
       "      <td>1</td>\n",
       "      <td>1</td>\n",
       "      <td>8</td>\n",
       "      <td>6</td>\n",
       "      <td>6</td>\n",
       "      <td>6</td>\n",
       "      <td>6</td>\n",
       "      <td>5</td>\n",
       "      <td>9</td>\n",
       "      <td>1</td>\n",
       "      <td>7</td>\n",
       "      <td>5</td>\n",
       "      <td>10</td>\n",
       "    </tr>\n",
       "  </tbody>\n",
       "</table>\n",
       "</div>"
      ],
      "text/plain": [
       "  letter  xbox  ybox  width  height  onpix  xbar  ybar  x2bar  y2bar  xybar  \\\n",
       "0      T     2     8      3       5      1     8    13      0      6      6   \n",
       "1      I     5    12      3       7      2    10     5      5      4     13   \n",
       "2      D     4    11      6       8      6    10     6      2      6     10   \n",
       "3      N     7    11      6       6      3     5     9      4      6      4   \n",
       "4      G     2     1      3       1      1     8     6      6      6      6   \n",
       "\n",
       "   x2ybar  xy2bar  xedge  xedgey  yedge  yedgex  \n",
       "0      10       8      0       8      0       8  \n",
       "1       3       9      2       8      4      10  \n",
       "2       3       7      3       7      3       9  \n",
       "3       4      10      6      10      2       8  \n",
       "4       5       9      1       7      5      10  "
      ]
     },
     "execution_count": 2,
     "metadata": {},
     "output_type": "execute_result"
    }
   ],
   "source": [
    "import pandas as pd\n",
    "\n",
    "df = pd.read_csv('Alphabets_data.csv')\n",
    "\n",
    "df.head()"
   ]
  },
  {
   "cell_type": "code",
   "execution_count": 3,
   "id": "e3196610-d2ef-407b-9e9e-9bdada4e3cd5",
   "metadata": {},
   "outputs": [
    {
     "name": "stdout",
     "output_type": "stream",
     "text": [
      "<class 'pandas.core.frame.DataFrame'>\n",
      "RangeIndex: 20000 entries, 0 to 19999\n",
      "Data columns (total 17 columns):\n",
      " #   Column  Non-Null Count  Dtype \n",
      "---  ------  --------------  ----- \n",
      " 0   letter  20000 non-null  object\n",
      " 1   xbox    20000 non-null  int64 \n",
      " 2   ybox    20000 non-null  int64 \n",
      " 3   width   20000 non-null  int64 \n",
      " 4   height  20000 non-null  int64 \n",
      " 5   onpix   20000 non-null  int64 \n",
      " 6   xbar    20000 non-null  int64 \n",
      " 7   ybar    20000 non-null  int64 \n",
      " 8   x2bar   20000 non-null  int64 \n",
      " 9   y2bar   20000 non-null  int64 \n",
      " 10  xybar   20000 non-null  int64 \n",
      " 11  x2ybar  20000 non-null  int64 \n",
      " 12  xy2bar  20000 non-null  int64 \n",
      " 13  xedge   20000 non-null  int64 \n",
      " 14  xedgey  20000 non-null  int64 \n",
      " 15  yedge   20000 non-null  int64 \n",
      " 16  yedgex  20000 non-null  int64 \n",
      "dtypes: int64(16), object(1)\n",
      "memory usage: 2.6+ MB\n"
     ]
    }
   ],
   "source": [
    "df.info()"
   ]
  },
  {
   "cell_type": "code",
   "execution_count": 4,
   "id": "3120fd55-ee33-4134-9560-a3d0128d6fdc",
   "metadata": {},
   "outputs": [
    {
     "data": {
      "text/plain": [
       "(20000, 17)"
      ]
     },
     "execution_count": 4,
     "metadata": {},
     "output_type": "execute_result"
    }
   ],
   "source": [
    "df.shape"
   ]
  },
  {
   "cell_type": "code",
   "execution_count": 5,
   "id": "d9e3ea4c-4567-4f8b-8972-fe6d3c222c85",
   "metadata": {},
   "outputs": [
    {
     "data": {
      "text/plain": [
       "letter    0\n",
       "xbox      0\n",
       "ybox      0\n",
       "width     0\n",
       "height    0\n",
       "onpix     0\n",
       "xbar      0\n",
       "ybar      0\n",
       "x2bar     0\n",
       "y2bar     0\n",
       "xybar     0\n",
       "x2ybar    0\n",
       "xy2bar    0\n",
       "xedge     0\n",
       "xedgey    0\n",
       "yedge     0\n",
       "yedgex    0\n",
       "dtype: int64"
      ]
     },
     "execution_count": 5,
     "metadata": {},
     "output_type": "execute_result"
    }
   ],
   "source": [
    "# checking missing values\n",
    "\n",
    "df.isnull().sum()"
   ]
  },
  {
   "cell_type": "code",
   "execution_count": 6,
   "id": "8cf86d73-7f84-4fdc-b607-1b0a79e0d4da",
   "metadata": {},
   "outputs": [],
   "source": [
    "# features & target\n",
    "\n",
    "X = df.drop('letter',axis=1)\n",
    "y = df['letter']"
   ]
  },
  {
   "cell_type": "code",
   "execution_count": 7,
   "id": "59626f5c-0238-4aa9-bd4f-6f9ead0cbc26",
   "metadata": {},
   "outputs": [],
   "source": [
    "# train-test split\n",
    "\n",
    "from sklearn.model_selection import train_test_split\n",
    "\n",
    "X_train,X_test,y_train,y_test = train_test_split(X,y,test_size=0.2,random_state=38,stratify=y)"
   ]
  },
  {
   "cell_type": "code",
   "execution_count": 8,
   "id": "3cb1170b-4ba6-4646-8ec6-fa63910451ae",
   "metadata": {},
   "outputs": [],
   "source": [
    "# encoding target\n",
    "\n",
    "from sklearn.preprocessing import LabelEncoder\n",
    "\n",
    "le = LabelEncoder()\n",
    "\n",
    "y_train = le.fit_transform(y_train)\n",
    "y_test = le.transform(y_test)"
   ]
  },
  {
   "cell_type": "code",
   "execution_count": 9,
   "id": "15e4a4ea-6280-43ef-9a29-948279b32a68",
   "metadata": {},
   "outputs": [],
   "source": [
    "# normalizing features\n",
    "\n",
    "from sklearn.preprocessing import MinMaxScaler\n",
    "\n",
    "scaler = MinMaxScaler()\n",
    "\n",
    "X_train_scaled = scaler.fit_transform(X_train)\n",
    "X_test_scaled = scaler.transform(X_test)"
   ]
  },
  {
   "cell_type": "code",
   "execution_count": 10,
   "id": "167f3308-e0e7-492a-bfbd-61bdd4e5378a",
   "metadata": {},
   "outputs": [
    {
     "name": "stderr",
     "output_type": "stream",
     "text": [
      "2025-09-10 14:02:11.617532: I tensorflow/core/platform/cpu_feature_guard.cc:210] This TensorFlow binary is optimized to use available CPU instructions in performance-critical operations.\n",
      "To enable the following instructions: AVX2 FMA, in other operations, rebuild TensorFlow with the appropriate compiler flags.\n"
     ]
    }
   ],
   "source": [
    "# model building\n",
    "\n",
    "from tensorflow.keras.models import Sequential\n",
    "from tensorflow.keras.layers import Input,Dense\n",
    "\n",
    "n_classes = 26\n",
    "\n",
    "model = Sequential()\n",
    "model.add(Input(shape=(X_train_scaled.shape[1],)))\n",
    "model.add(Dense(64,activation='relu'))\n",
    "model.add(Dense(n_classes,activation='softmax'))"
   ]
  },
  {
   "cell_type": "code",
   "execution_count": 11,
   "id": "bab2a3ae-f667-463d-a88e-f699ffe6ae17",
   "metadata": {},
   "outputs": [
    {
     "data": {
      "text/html": [
       "<pre style=\"white-space:pre;overflow-x:auto;line-height:normal;font-family:Menlo,'DejaVu Sans Mono',consolas,'Courier New',monospace\"><span style=\"font-weight: bold\">Model: \"sequential\"</span>\n",
       "</pre>\n"
      ],
      "text/plain": [
       "\u001b[1mModel: \"sequential\"\u001b[0m\n"
      ]
     },
     "metadata": {},
     "output_type": "display_data"
    },
    {
     "data": {
      "text/html": [
       "<pre style=\"white-space:pre;overflow-x:auto;line-height:normal;font-family:Menlo,'DejaVu Sans Mono',consolas,'Courier New',monospace\">┏━━━━━━━━━━━━━━━━━━━━━━━━━━━━━━━━━┳━━━━━━━━━━━━━━━━━━━━━━━━┳━━━━━━━━━━━━━━━┓\n",
       "┃<span style=\"font-weight: bold\"> Layer (type)                    </span>┃<span style=\"font-weight: bold\"> Output Shape           </span>┃<span style=\"font-weight: bold\">       Param # </span>┃\n",
       "┡━━━━━━━━━━━━━━━━━━━━━━━━━━━━━━━━━╇━━━━━━━━━━━━━━━━━━━━━━━━╇━━━━━━━━━━━━━━━┩\n",
       "│ dense (<span style=\"color: #0087ff; text-decoration-color: #0087ff\">Dense</span>)                   │ (<span style=\"color: #00d7ff; text-decoration-color: #00d7ff\">None</span>, <span style=\"color: #00af00; text-decoration-color: #00af00\">64</span>)             │         <span style=\"color: #00af00; text-decoration-color: #00af00\">1,088</span> │\n",
       "├─────────────────────────────────┼────────────────────────┼───────────────┤\n",
       "│ dense_1 (<span style=\"color: #0087ff; text-decoration-color: #0087ff\">Dense</span>)                 │ (<span style=\"color: #00d7ff; text-decoration-color: #00d7ff\">None</span>, <span style=\"color: #00af00; text-decoration-color: #00af00\">26</span>)             │         <span style=\"color: #00af00; text-decoration-color: #00af00\">1,690</span> │\n",
       "└─────────────────────────────────┴────────────────────────┴───────────────┘\n",
       "</pre>\n"
      ],
      "text/plain": [
       "┏━━━━━━━━━━━━━━━━━━━━━━━━━━━━━━━━━┳━━━━━━━━━━━━━━━━━━━━━━━━┳━━━━━━━━━━━━━━━┓\n",
       "┃\u001b[1m \u001b[0m\u001b[1mLayer (type)                   \u001b[0m\u001b[1m \u001b[0m┃\u001b[1m \u001b[0m\u001b[1mOutput Shape          \u001b[0m\u001b[1m \u001b[0m┃\u001b[1m \u001b[0m\u001b[1m      Param #\u001b[0m\u001b[1m \u001b[0m┃\n",
       "┡━━━━━━━━━━━━━━━━━━━━━━━━━━━━━━━━━╇━━━━━━━━━━━━━━━━━━━━━━━━╇━━━━━━━━━━━━━━━┩\n",
       "│ dense (\u001b[38;5;33mDense\u001b[0m)                   │ (\u001b[38;5;45mNone\u001b[0m, \u001b[38;5;34m64\u001b[0m)             │         \u001b[38;5;34m1,088\u001b[0m │\n",
       "├─────────────────────────────────┼────────────────────────┼───────────────┤\n",
       "│ dense_1 (\u001b[38;5;33mDense\u001b[0m)                 │ (\u001b[38;5;45mNone\u001b[0m, \u001b[38;5;34m26\u001b[0m)             │         \u001b[38;5;34m1,690\u001b[0m │\n",
       "└─────────────────────────────────┴────────────────────────┴───────────────┘\n"
      ]
     },
     "metadata": {},
     "output_type": "display_data"
    },
    {
     "data": {
      "text/html": [
       "<pre style=\"white-space:pre;overflow-x:auto;line-height:normal;font-family:Menlo,'DejaVu Sans Mono',consolas,'Courier New',monospace\"><span style=\"font-weight: bold\"> Total params: </span><span style=\"color: #00af00; text-decoration-color: #00af00\">2,778</span> (10.85 KB)\n",
       "</pre>\n"
      ],
      "text/plain": [
       "\u001b[1m Total params: \u001b[0m\u001b[38;5;34m2,778\u001b[0m (10.85 KB)\n"
      ]
     },
     "metadata": {},
     "output_type": "display_data"
    },
    {
     "data": {
      "text/html": [
       "<pre style=\"white-space:pre;overflow-x:auto;line-height:normal;font-family:Menlo,'DejaVu Sans Mono',consolas,'Courier New',monospace\"><span style=\"font-weight: bold\"> Trainable params: </span><span style=\"color: #00af00; text-decoration-color: #00af00\">2,778</span> (10.85 KB)\n",
       "</pre>\n"
      ],
      "text/plain": [
       "\u001b[1m Trainable params: \u001b[0m\u001b[38;5;34m2,778\u001b[0m (10.85 KB)\n"
      ]
     },
     "metadata": {},
     "output_type": "display_data"
    },
    {
     "data": {
      "text/html": [
       "<pre style=\"white-space:pre;overflow-x:auto;line-height:normal;font-family:Menlo,'DejaVu Sans Mono',consolas,'Courier New',monospace\"><span style=\"font-weight: bold\"> Non-trainable params: </span><span style=\"color: #00af00; text-decoration-color: #00af00\">0</span> (0.00 B)\n",
       "</pre>\n"
      ],
      "text/plain": [
       "\u001b[1m Non-trainable params: \u001b[0m\u001b[38;5;34m0\u001b[0m (0.00 B)\n"
      ]
     },
     "metadata": {},
     "output_type": "display_data"
    }
   ],
   "source": [
    "model.summary()"
   ]
  },
  {
   "cell_type": "code",
   "execution_count": 12,
   "id": "19b145f0-e73a-4c1c-bd43-d29aafd923aa",
   "metadata": {},
   "outputs": [],
   "source": [
    "# compiling model\n",
    "\n",
    "model.compile(optimizer='adam',loss='sparse_categorical_crossentropy',metrics=['accuracy'])\n"
   ]
  },
  {
   "cell_type": "code",
   "execution_count": 13,
   "id": "e7bc2ec5-d9d0-466d-b81f-006a232c66fd",
   "metadata": {},
   "outputs": [
    {
     "name": "stdout",
     "output_type": "stream",
     "text": [
      "Epoch 1/50\n",
      "\u001b[1m2000/2000\u001b[0m \u001b[32m━━━━━━━━━━━━━━━━━━━━\u001b[0m\u001b[37m\u001b[0m \u001b[1m9s\u001b[0m 4ms/step - accuracy: 0.3918 - loss: 2.4060 - val_accuracy: 0.5213 - val_loss: 1.7736\n",
      "Epoch 2/50\n",
      "\u001b[1m2000/2000\u001b[0m \u001b[32m━━━━━━━━━━━━━━━━━━━━\u001b[0m\u001b[37m\u001b[0m \u001b[1m7s\u001b[0m 4ms/step - accuracy: 0.6063 - loss: 1.5559 - val_accuracy: 0.6385 - val_loss: 1.3565\n",
      "Epoch 3/50\n",
      "\u001b[1m2000/2000\u001b[0m \u001b[32m━━━━━━━━━━━━━━━━━━━━\u001b[0m\u001b[37m\u001b[0m \u001b[1m9s\u001b[0m 5ms/step - accuracy: 0.6594 - loss: 1.3003 - val_accuracy: 0.6790 - val_loss: 1.1943\n",
      "Epoch 4/50\n",
      "\u001b[1m2000/2000\u001b[0m \u001b[32m━━━━━━━━━━━━━━━━━━━━\u001b[0m\u001b[37m\u001b[0m \u001b[1m8s\u001b[0m 4ms/step - accuracy: 0.6917 - loss: 1.1733 - val_accuracy: 0.7132 - val_loss: 1.0831\n",
      "Epoch 5/50\n",
      "\u001b[1m2000/2000\u001b[0m \u001b[32m━━━━━━━━━━━━━━━━━━━━\u001b[0m\u001b[37m\u001b[0m \u001b[1m8s\u001b[0m 4ms/step - accuracy: 0.7115 - loss: 1.0929 - val_accuracy: 0.7280 - val_loss: 1.0214\n",
      "Epoch 6/50\n",
      "\u001b[1m2000/2000\u001b[0m \u001b[32m━━━━━━━━━━━━━━━━━━━━\u001b[0m\u001b[37m\u001b[0m \u001b[1m8s\u001b[0m 4ms/step - accuracy: 0.7255 - loss: 1.0374 - val_accuracy: 0.7460 - val_loss: 0.9771\n",
      "Epoch 7/50\n",
      "\u001b[1m2000/2000\u001b[0m \u001b[32m━━━━━━━━━━━━━━━━━━━━\u001b[0m\u001b[37m\u001b[0m \u001b[1m8s\u001b[0m 4ms/step - accuracy: 0.7347 - loss: 0.9957 - val_accuracy: 0.7458 - val_loss: 0.9343\n",
      "Epoch 8/50\n",
      "\u001b[1m2000/2000\u001b[0m \u001b[32m━━━━━━━━━━━━━━━━━━━━\u001b[0m\u001b[37m\u001b[0m \u001b[1m9s\u001b[0m 5ms/step - accuracy: 0.7420 - loss: 0.9611 - val_accuracy: 0.7650 - val_loss: 0.9099\n",
      "Epoch 9/50\n",
      "\u001b[1m2000/2000\u001b[0m \u001b[32m━━━━━━━━━━━━━━━━━━━━\u001b[0m\u001b[37m\u001b[0m \u001b[1m9s\u001b[0m 5ms/step - accuracy: 0.7526 - loss: 0.9309 - val_accuracy: 0.7595 - val_loss: 0.8806\n",
      "Epoch 10/50\n",
      "\u001b[1m2000/2000\u001b[0m \u001b[32m━━━━━━━━━━━━━━━━━━━━\u001b[0m\u001b[37m\u001b[0m \u001b[1m9s\u001b[0m 5ms/step - accuracy: 0.7583 - loss: 0.9043 - val_accuracy: 0.7800 - val_loss: 0.8559\n",
      "Epoch 11/50\n",
      "\u001b[1m2000/2000\u001b[0m \u001b[32m━━━━━━━━━━━━━━━━━━━━\u001b[0m\u001b[37m\u001b[0m \u001b[1m10s\u001b[0m 5ms/step - accuracy: 0.7667 - loss: 0.8818 - val_accuracy: 0.7720 - val_loss: 0.8508\n",
      "Epoch 12/50\n",
      "\u001b[1m2000/2000\u001b[0m \u001b[32m━━━━━━━━━━━━━━━━━━━━\u001b[0m\u001b[37m\u001b[0m \u001b[1m9s\u001b[0m 4ms/step - accuracy: 0.7682 - loss: 0.8609 - val_accuracy: 0.7855 - val_loss: 0.8188\n",
      "Epoch 13/50\n",
      "\u001b[1m2000/2000\u001b[0m \u001b[32m━━━━━━━━━━━━━━━━━━━━\u001b[0m\u001b[37m\u001b[0m \u001b[1m9s\u001b[0m 5ms/step - accuracy: 0.7756 - loss: 0.8399 - val_accuracy: 0.7855 - val_loss: 0.7990\n",
      "Epoch 14/50\n",
      "\u001b[1m2000/2000\u001b[0m \u001b[32m━━━━━━━━━━━━━━━━━━━━\u001b[0m\u001b[37m\u001b[0m \u001b[1m9s\u001b[0m 4ms/step - accuracy: 0.7771 - loss: 0.8232 - val_accuracy: 0.7812 - val_loss: 0.7945\n",
      "Epoch 15/50\n",
      "\u001b[1m2000/2000\u001b[0m \u001b[32m━━━━━━━━━━━━━━━━━━━━\u001b[0m\u001b[37m\u001b[0m \u001b[1m9s\u001b[0m 4ms/step - accuracy: 0.7812 - loss: 0.8085 - val_accuracy: 0.7912 - val_loss: 0.7755\n",
      "Epoch 16/50\n",
      "\u001b[1m2000/2000\u001b[0m \u001b[32m━━━━━━━━━━━━━━━━━━━━\u001b[0m\u001b[37m\u001b[0m \u001b[1m9s\u001b[0m 4ms/step - accuracy: 0.7838 - loss: 0.7905 - val_accuracy: 0.7952 - val_loss: 0.7578\n",
      "Epoch 17/50\n",
      "\u001b[1m2000/2000\u001b[0m \u001b[32m━━━━━━━━━━━━━━━━━━━━\u001b[0m\u001b[37m\u001b[0m \u001b[1m8s\u001b[0m 4ms/step - accuracy: 0.7861 - loss: 0.7766 - val_accuracy: 0.7955 - val_loss: 0.7600\n",
      "Epoch 18/50\n",
      "\u001b[1m2000/2000\u001b[0m \u001b[32m━━━━━━━━━━━━━━━━━━━━\u001b[0m\u001b[37m\u001b[0m \u001b[1m10s\u001b[0m 5ms/step - accuracy: 0.7904 - loss: 0.7633 - val_accuracy: 0.7937 - val_loss: 0.7427\n",
      "Epoch 19/50\n",
      "\u001b[1m2000/2000\u001b[0m \u001b[32m━━━━━━━━━━━━━━━━━━━━\u001b[0m\u001b[37m\u001b[0m \u001b[1m9s\u001b[0m 4ms/step - accuracy: 0.7926 - loss: 0.7509 - val_accuracy: 0.8040 - val_loss: 0.7244\n",
      "Epoch 20/50\n",
      "\u001b[1m2000/2000\u001b[0m \u001b[32m━━━━━━━━━━━━━━━━━━━━\u001b[0m\u001b[37m\u001b[0m \u001b[1m12s\u001b[0m 5ms/step - accuracy: 0.7972 - loss: 0.7391 - val_accuracy: 0.7985 - val_loss: 0.7216\n",
      "Epoch 21/50\n",
      "\u001b[1m2000/2000\u001b[0m \u001b[32m━━━━━━━━━━━━━━━━━━━━\u001b[0m\u001b[37m\u001b[0m \u001b[1m9s\u001b[0m 5ms/step - accuracy: 0.7986 - loss: 0.7288 - val_accuracy: 0.8080 - val_loss: 0.7015\n",
      "Epoch 22/50\n",
      "\u001b[1m2000/2000\u001b[0m \u001b[32m━━━━━━━━━━━━━━━━━━━━\u001b[0m\u001b[37m\u001b[0m \u001b[1m9s\u001b[0m 4ms/step - accuracy: 0.8035 - loss: 0.7156 - val_accuracy: 0.8102 - val_loss: 0.6910\n",
      "Epoch 23/50\n",
      "\u001b[1m2000/2000\u001b[0m \u001b[32m━━━━━━━━━━━━━━━━━━━━\u001b[0m\u001b[37m\u001b[0m \u001b[1m9s\u001b[0m 5ms/step - accuracy: 0.8051 - loss: 0.7060 - val_accuracy: 0.8108 - val_loss: 0.6907\n",
      "Epoch 24/50\n",
      "\u001b[1m2000/2000\u001b[0m \u001b[32m━━━━━━━━━━━━━━━━━━━━\u001b[0m\u001b[37m\u001b[0m \u001b[1m10s\u001b[0m 5ms/step - accuracy: 0.8078 - loss: 0.6948 - val_accuracy: 0.8138 - val_loss: 0.6823\n",
      "Epoch 25/50\n",
      "\u001b[1m2000/2000\u001b[0m \u001b[32m━━━━━━━━━━━━━━━━━━━━\u001b[0m\u001b[37m\u001b[0m \u001b[1m9s\u001b[0m 5ms/step - accuracy: 0.8083 - loss: 0.6858 - val_accuracy: 0.8188 - val_loss: 0.6635\n",
      "Epoch 26/50\n",
      "\u001b[1m2000/2000\u001b[0m \u001b[32m━━━━━━━━━━━━━━━━━━━━\u001b[0m\u001b[37m\u001b[0m \u001b[1m9s\u001b[0m 5ms/step - accuracy: 0.8114 - loss: 0.6754 - val_accuracy: 0.8158 - val_loss: 0.6634\n",
      "Epoch 27/50\n",
      "\u001b[1m2000/2000\u001b[0m \u001b[32m━━━━━━━━━━━━━━━━━━━━\u001b[0m\u001b[37m\u001b[0m \u001b[1m9s\u001b[0m 4ms/step - accuracy: 0.8099 - loss: 0.6681 - val_accuracy: 0.8125 - val_loss: 0.6587\n",
      "Epoch 28/50\n",
      "\u001b[1m2000/2000\u001b[0m \u001b[32m━━━━━━━━━━━━━━━━━━━━\u001b[0m\u001b[37m\u001b[0m \u001b[1m9s\u001b[0m 5ms/step - accuracy: 0.8148 - loss: 0.6590 - val_accuracy: 0.8242 - val_loss: 0.6379\n",
      "Epoch 29/50\n",
      "\u001b[1m2000/2000\u001b[0m \u001b[32m━━━━━━━━━━━━━━━━━━━━\u001b[0m\u001b[37m\u001b[0m \u001b[1m9s\u001b[0m 4ms/step - accuracy: 0.8177 - loss: 0.6491 - val_accuracy: 0.8190 - val_loss: 0.6461\n",
      "Epoch 30/50\n",
      "\u001b[1m2000/2000\u001b[0m \u001b[32m━━━━━━━━━━━━━━━━━━━━\u001b[0m\u001b[37m\u001b[0m \u001b[1m9s\u001b[0m 4ms/step - accuracy: 0.8186 - loss: 0.6407 - val_accuracy: 0.8295 - val_loss: 0.6335\n",
      "Epoch 31/50\n",
      "\u001b[1m2000/2000\u001b[0m \u001b[32m━━━━━━━━━━━━━━━━━━━━\u001b[0m\u001b[37m\u001b[0m \u001b[1m9s\u001b[0m 4ms/step - accuracy: 0.8223 - loss: 0.6322 - val_accuracy: 0.8238 - val_loss: 0.6227\n",
      "Epoch 32/50\n",
      "\u001b[1m2000/2000\u001b[0m \u001b[32m━━━━━━━━━━━━━━━━━━━━\u001b[0m\u001b[37m\u001b[0m \u001b[1m9s\u001b[0m 5ms/step - accuracy: 0.8228 - loss: 0.6259 - val_accuracy: 0.8275 - val_loss: 0.6221\n",
      "Epoch 33/50\n",
      "\u001b[1m2000/2000\u001b[0m \u001b[32m━━━━━━━━━━━━━━━━━━━━\u001b[0m\u001b[37m\u001b[0m \u001b[1m9s\u001b[0m 4ms/step - accuracy: 0.8241 - loss: 0.6180 - val_accuracy: 0.8290 - val_loss: 0.6141\n",
      "Epoch 34/50\n",
      "\u001b[1m2000/2000\u001b[0m \u001b[32m━━━━━━━━━━━━━━━━━━━━\u001b[0m\u001b[37m\u001b[0m \u001b[1m9s\u001b[0m 5ms/step - accuracy: 0.8267 - loss: 0.6113 - val_accuracy: 0.8310 - val_loss: 0.6048\n",
      "Epoch 35/50\n",
      "\u001b[1m2000/2000\u001b[0m \u001b[32m━━━━━━━━━━━━━━━━━━━━\u001b[0m\u001b[37m\u001b[0m \u001b[1m9s\u001b[0m 4ms/step - accuracy: 0.8284 - loss: 0.6039 - val_accuracy: 0.8310 - val_loss: 0.6065\n",
      "Epoch 36/50\n",
      "\u001b[1m2000/2000\u001b[0m \u001b[32m━━━━━━━━━━━━━━━━━━━━\u001b[0m\u001b[37m\u001b[0m \u001b[1m9s\u001b[0m 4ms/step - accuracy: 0.8307 - loss: 0.5965 - val_accuracy: 0.8278 - val_loss: 0.6037\n",
      "Epoch 37/50\n",
      "\u001b[1m2000/2000\u001b[0m \u001b[32m━━━━━━━━━━━━━━━━━━━━\u001b[0m\u001b[37m\u001b[0m \u001b[1m9s\u001b[0m 4ms/step - accuracy: 0.8318 - loss: 0.5903 - val_accuracy: 0.8378 - val_loss: 0.5875\n",
      "Epoch 38/50\n",
      "\u001b[1m2000/2000\u001b[0m \u001b[32m━━━━━━━━━━━━━━━━━━━━\u001b[0m\u001b[37m\u001b[0m \u001b[1m9s\u001b[0m 4ms/step - accuracy: 0.8341 - loss: 0.5829 - val_accuracy: 0.8410 - val_loss: 0.5783\n",
      "Epoch 39/50\n",
      "\u001b[1m2000/2000\u001b[0m \u001b[32m━━━━━━━━━━━━━━━━━━━━\u001b[0m\u001b[37m\u001b[0m \u001b[1m9s\u001b[0m 4ms/step - accuracy: 0.8353 - loss: 0.5768 - val_accuracy: 0.8418 - val_loss: 0.5808\n",
      "Epoch 40/50\n",
      "\u001b[1m2000/2000\u001b[0m \u001b[32m━━━━━━━━━━━━━━━━━━━━\u001b[0m\u001b[37m\u001b[0m \u001b[1m11s\u001b[0m 5ms/step - accuracy: 0.8354 - loss: 0.5714 - val_accuracy: 0.8407 - val_loss: 0.5659\n",
      "Epoch 41/50\n",
      "\u001b[1m2000/2000\u001b[0m \u001b[32m━━━━━━━━━━━━━━━━━━━━\u001b[0m\u001b[37m\u001b[0m \u001b[1m9s\u001b[0m 4ms/step - accuracy: 0.8369 - loss: 0.5648 - val_accuracy: 0.8450 - val_loss: 0.5548\n",
      "Epoch 42/50\n",
      "\u001b[1m2000/2000\u001b[0m \u001b[32m━━━━━━━━━━━━━━━━━━━━\u001b[0m\u001b[37m\u001b[0m \u001b[1m8s\u001b[0m 4ms/step - accuracy: 0.8399 - loss: 0.5594 - val_accuracy: 0.8443 - val_loss: 0.5564\n",
      "Epoch 43/50\n",
      "\u001b[1m2000/2000\u001b[0m \u001b[32m━━━━━━━━━━━━━━━━━━━━\u001b[0m\u001b[37m\u001b[0m \u001b[1m9s\u001b[0m 5ms/step - accuracy: 0.8400 - loss: 0.5535 - val_accuracy: 0.8428 - val_loss: 0.5575\n",
      "Epoch 44/50\n",
      "\u001b[1m2000/2000\u001b[0m \u001b[32m━━━━━━━━━━━━━━━━━━━━\u001b[0m\u001b[37m\u001b[0m \u001b[1m11s\u001b[0m 6ms/step - accuracy: 0.8414 - loss: 0.5482 - val_accuracy: 0.8490 - val_loss: 0.5428\n",
      "Epoch 45/50\n",
      "\u001b[1m2000/2000\u001b[0m \u001b[32m━━━━━━━━━━━━━━━━━━━━\u001b[0m\u001b[37m\u001b[0m \u001b[1m11s\u001b[0m 5ms/step - accuracy: 0.8433 - loss: 0.5424 - val_accuracy: 0.8365 - val_loss: 0.5595\n",
      "Epoch 46/50\n",
      "\u001b[1m2000/2000\u001b[0m \u001b[32m━━━━━━━━━━━━━━━━━━━━\u001b[0m\u001b[37m\u001b[0m \u001b[1m7s\u001b[0m 3ms/step - accuracy: 0.8426 - loss: 0.5381 - val_accuracy: 0.8393 - val_loss: 0.5537\n",
      "Epoch 47/50\n",
      "\u001b[1m2000/2000\u001b[0m \u001b[32m━━━━━━━━━━━━━━━━━━━━\u001b[0m\u001b[37m\u001b[0m \u001b[1m6s\u001b[0m 3ms/step - accuracy: 0.8456 - loss: 0.5316 - val_accuracy: 0.8470 - val_loss: 0.5326\n",
      "Epoch 48/50\n",
      "\u001b[1m2000/2000\u001b[0m \u001b[32m━━━━━━━━━━━━━━━━━━━━\u001b[0m\u001b[37m\u001b[0m \u001b[1m5s\u001b[0m 2ms/step - accuracy: 0.8462 - loss: 0.5249 - val_accuracy: 0.8525 - val_loss: 0.5278\n",
      "Epoch 49/50\n",
      "\u001b[1m2000/2000\u001b[0m \u001b[32m━━━━━━━━━━━━━━━━━━━━\u001b[0m\u001b[37m\u001b[0m \u001b[1m5s\u001b[0m 2ms/step - accuracy: 0.8491 - loss: 0.5215 - val_accuracy: 0.8540 - val_loss: 0.5216\n",
      "Epoch 50/50\n",
      "\u001b[1m2000/2000\u001b[0m \u001b[32m━━━━━━━━━━━━━━━━━━━━\u001b[0m\u001b[37m\u001b[0m \u001b[1m5s\u001b[0m 3ms/step - accuracy: 0.8494 - loss: 0.5146 - val_accuracy: 0.8558 - val_loss: 0.5113\n"
     ]
    }
   ],
   "source": [
    "# model fitting\n",
    "\n",
    "history = model.fit(\n",
    "    X_train_scaled,y_train,\n",
    "    epochs=50,\n",
    "    batch_size=8,\n",
    "    validation_data=(X_test_scaled,y_test),\n",
    "    verbose=1\n",
    ")"
   ]
  },
  {
   "cell_type": "code",
   "execution_count": 14,
   "id": "1001da8a-d4fa-4603-9de5-3f0bd9872923",
   "metadata": {},
   "outputs": [
    {
     "name": "stdout",
     "output_type": "stream",
     "text": [
      "loss : 0.5113146901130676\n",
      "accuracy : 0.8557500243186951\n"
     ]
    }
   ],
   "source": [
    "# evaluating model\n",
    "loss, accuracy = model.evaluate(X_test_scaled, y_test, verbose=0)\n",
    "\n",
    "print(f'loss : {loss}')\n",
    "print(f'accuracy : {accuracy}')"
   ]
  },
  {
   "cell_type": "code",
   "execution_count": 15,
   "id": "e9b7aee2-3ab3-4855-8a29-e6b2bc252640",
   "metadata": {},
   "outputs": [
    {
     "name": "stdout",
     "output_type": "stream",
     "text": [
      "\u001b[1m125/125\u001b[0m \u001b[32m━━━━━━━━━━━━━━━━━━━━\u001b[0m\u001b[37m\u001b[0m \u001b[1m0s\u001b[0m 2ms/step\n",
      "[5.1902243e-05 3.4833504e-06 4.6938313e-03 1.1757884e-04 4.4002529e-04\n",
      " 1.3534268e-04 6.0124971e-02 7.1781003e-05 3.8972553e-02 1.4120743e-01\n",
      " 2.3503479e-07 7.1988310e-05 1.0001669e-12 3.5236526e-11 3.7604952e-01\n",
      " 1.4395561e-05 8.1409118e-04 2.6003280e-09 3.7709776e-01 8.5915854e-05\n",
      " 8.5780766e-07 1.0389856e-09 6.1424261e-29 4.0927829e-05 7.3778467e-10\n",
      " 5.3560188e-06]\n",
      "18\n"
     ]
    }
   ],
   "source": [
    "# prediction\n",
    "import numpy as np\n",
    "\n",
    "pred_probas = model.predict(X_test_scaled)\n",
    "print(pred_probas[0])\n",
    "\n",
    "y_pred = np.argmax(pred_probas, axis=1)  \n",
    "print(y_pred[0])   "
   ]
  },
  {
   "cell_type": "code",
   "execution_count": 16,
   "id": "442dc181-1e10-4e57-9c19-a55473a26ed2",
   "metadata": {},
   "outputs": [
    {
     "name": "stdout",
     "output_type": "stream",
     "text": [
      "accuracy score = 0.85575\n",
      "report = \n",
      "               precision    recall  f1-score   support\n",
      "\n",
      "           0       0.85      0.95      0.90       158\n",
      "           1       0.69      0.82      0.75       153\n",
      "           2       0.93      0.78      0.85       147\n",
      "           3       0.90      0.78      0.83       161\n",
      "           4       0.74      0.79      0.76       154\n",
      "           5       0.88      0.79      0.84       155\n",
      "           6       0.79      0.78      0.79       155\n",
      "           7       0.79      0.72      0.75       147\n",
      "           8       0.91      0.83      0.87       151\n",
      "           9       0.87      0.89      0.88       149\n",
      "          10       0.89      0.83      0.86       148\n",
      "          11       0.93      0.91      0.92       152\n",
      "          12       0.90      0.93      0.92       158\n",
      "          13       0.88      0.87      0.87       157\n",
      "          14       0.74      0.90      0.81       150\n",
      "          15       0.90      0.86      0.88       161\n",
      "          16       0.86      0.85      0.86       157\n",
      "          17       0.75      0.82      0.78       152\n",
      "          18       0.83      0.74      0.79       149\n",
      "          19       0.84      0.90      0.87       159\n",
      "          20       0.97      0.90      0.94       163\n",
      "          21       0.92      0.93      0.93       153\n",
      "          22       0.89      0.94      0.91       150\n",
      "          23       0.81      0.90      0.85       157\n",
      "          24       0.94      0.90      0.92       157\n",
      "          25       0.95      0.93      0.94       147\n",
      "\n",
      "    accuracy                           0.86      4000\n",
      "   macro avg       0.86      0.86      0.86      4000\n",
      "weighted avg       0.86      0.86      0.86      4000\n",
      "\n",
      "confusion matrix = \n",
      " [[150   0   0   0   0   0   0   3   0   0   1   0   2   0   0   0   0   2\n",
      "    0   0   0   0   0   0   0   0]\n",
      " [  1 125   0   2   0   0   0   6   0   0   0   0   0   2   2   1   2   9\n",
      "    1   0   0   1   0   1   0   0]\n",
      " [  0   0 115   0  11   1   5   0   0   0   3   0   0   0   6   0   0   1\n",
      "    0   4   1   0   0   0   0   0]\n",
      " [  0  12   0 125   0   0   0   4   0   2   0   0   3   6   1   3   0   1\n",
      "    0   2   0   0   0   1   0   1]\n",
      " [  0   5   0   0 121   1  10   1   0   0   2   2   0   0   0   0   1   2\n",
      "    5   1   0   0   0   3   0   0]\n",
      " [  1   2   0   1   2 123   1   3   2   1   0   0   0   2   0   3   0   0\n",
      "    1   9   0   0   0   3   1   0]\n",
      " [  2   5   6   2   2   0 121   1   0   0   2   0   0   0   2   1   5   3\n",
      "    1   0   0   0   0   2   0   0]\n",
      " [  0   3   1   3   0   0   0 106   0   3   4   0   1   3   5   4   1   6\n",
      "    2   0   0   2   0   3   0   0]\n",
      " [  0   0   0   0   0   5   0   0 126   7   0   0   0   0   0   0   0   0\n",
      "    6   0   0   0   0   5   2   0]\n",
      " [  4   0   0   1   0   0   0   1   5 132   0   0   0   0   0   0   0   0\n",
      "    1   0   0   0   0   5   0   0]\n",
      " [  2   0   1   0   3   0   0   4   0   0 123   1   0   0   0   0   0   7\n",
      "    0   0   2   0   0   5   0   0]\n",
      " [  1   0   0   0   4   0   1   1   0   0   0 138   0   0   1   0   1   1\n",
      "    0   2   0   0   0   1   0   1]\n",
      " [  0   2   0   0   0   0   0   0   0   0   0   0 147   0   4   0   1   1\n",
      "    0   0   0   1   2   0   0   0]\n",
      " [  2   1   0   1   0   0   0   0   0   0   1   0   3 136   3   1   0   3\n",
      "    0   0   0   0   6   0   0   0]\n",
      " [  2   0   0   0   0   0   1   0   0   0   0   0   2   0 135   1   2   2\n",
      "    0   1   0   1   2   0   0   1]\n",
      " [  0   3   0   0   0   4   4   0   0   0   0   1   0   1   4 139   2   0\n",
      "    0   0   0   0   0   0   3   0]\n",
      " [  4   3   0   0   0   0   4   0   1   0   0   0   0   0  10   0 133   1\n",
      "    1   0   0   0   0   0   0   0]\n",
      " [  0  15   0   2   0   0   0   3   0   0   0   0   0   1   3   1   2 124\n",
      "    0   1   0   0   0   0   0   0]\n",
      " [  2   3   0   0  11   2   1   0   1   4   1   5   0   0   0   0   1   0\n",
      "  111   1   0   0   0   2   2   2]\n",
      " [  0   0   0   0   2   2   4   0   0   1   0   0   0   0   0   0   0   0\n",
      "    1 143   1   2   0   2   0   1]\n",
      " [  2   0   0   0   0   0   0   0   0   0   0   0   2   3   5   0   0   0\n",
      "    0   0 147   0   4   0   0   0]\n",
      " [  0   2   0   0   0   0   0   1   0   0   0   0   0   0   1   1   0   0\n",
      "    1   2   0 143   1   0   1   0]\n",
      " [  1   1   0   0   0   0   0   0   0   0   0   0   3   0   0   0   0   2\n",
      "    0   1   0   1 141   0   0   0]\n",
      " [  0   0   0   2   4   0   1   0   4   2   1   0   0   0   0   0   1   0\n",
      "    0   0   0   0   0 141   0   1]\n",
      " [  0   0   0   0   0   1   0   0   0   0   0   0   0   0   1   0   1   0\n",
      "    0   4   0   5   3   1 141   0]\n",
      " [  2   0   0   0   3   0   0   0   0   0   0   1   0   0   0   0   1   1\n",
      "    2   0   0   0   0   0   0 137]]\n"
     ]
    }
   ],
   "source": [
    "# measuring performance \n",
    "\n",
    "from sklearn.metrics import accuracy_score,classification_report,confusion_matrix\n",
    "\n",
    "print(f'accuracy score = {accuracy_score(y_test, y_pred)}')\n",
    "\n",
    "print(f'report = \\n {classification_report(y_test, y_pred)}')\n",
    "\n",
    "print(f'confusion matrix = \\n {confusion_matrix(y_test, y_pred)}')"
   ]
  },
  {
   "cell_type": "code",
   "execution_count": 17,
   "id": "0bae2f81-ae27-4c2e-a73d-9c76819e6564",
   "metadata": {},
   "outputs": [],
   "source": [
    "# hyperparams tuning\n",
    "from scikeras.wrappers import KerasClassifier\n",
    "\n",
    "def create_model(optimizer='adam', activation='relu', neurons=64):\n",
    "    model = Sequential()\n",
    "    model.add(Input(shape=(X_train_scaled.shape[1],)))\n",
    "    model.add(Dense(neurons, activation=activation))\n",
    "    model.add(Dense(n_classes, activation='softmax'))\n",
    "    \n",
    "    model.compile(optimizer=optimizer,\n",
    "                  loss='sparse_categorical_crossentropy',\n",
    "                  metrics=['accuracy'])\n",
    "    return model"
   ]
  },
  {
   "cell_type": "code",
   "execution_count": 18,
   "id": "f3690584-3b6d-438e-94c1-5845816fa50e",
   "metadata": {},
   "outputs": [],
   "source": [
    "params = {\n",
    "    'model__optimizer': ['adam', 'sgd', 'rmsprop'],\n",
    "    'model__activation': ['relu', 'tanh'],\n",
    "    'model__neurons': [32, 64, 128],\n",
    "    'batch_size': [16, 32, 64],\n",
    "    'epochs': [10, 20, 30]\n",
    "}"
   ]
  },
  {
   "cell_type": "code",
   "execution_count": 19,
   "id": "1a819010-cf9d-4fcf-9710-919c648567c4",
   "metadata": {},
   "outputs": [
    {
     "name": "stdout",
     "output_type": "stream",
     "text": [
      "Fitting 3 folds for each of 5 candidates, totalling 15 fits\n",
      "[CV] END batch_size=32, epochs=10, model__activation=relu, model__neurons=128, model__optimizer=sgd; total time=   9.9s\n",
      "[CV] END batch_size=32, epochs=10, model__activation=relu, model__neurons=128, model__optimizer=sgd; total time=   7.0s\n",
      "[CV] END batch_size=32, epochs=10, model__activation=relu, model__neurons=128, model__optimizer=sgd; total time=   6.9s\n",
      "[CV] END batch_size=64, epochs=20, model__activation=tanh, model__neurons=128, model__optimizer=adam; total time=   8.3s\n",
      "[CV] END batch_size=64, epochs=20, model__activation=tanh, model__neurons=128, model__optimizer=adam; total time=  10.8s\n",
      "[CV] END batch_size=64, epochs=20, model__activation=tanh, model__neurons=128, model__optimizer=adam; total time=  11.9s\n",
      "[CV] END batch_size=16, epochs=10, model__activation=relu, model__neurons=32, model__optimizer=rmsprop; total time=  12.5s\n",
      "[CV] END batch_size=16, epochs=10, model__activation=relu, model__neurons=32, model__optimizer=rmsprop; total time=  13.0s\n",
      "[CV] END batch_size=16, epochs=10, model__activation=relu, model__neurons=32, model__optimizer=rmsprop; total time=  12.4s\n",
      "[CV] END batch_size=16, epochs=30, model__activation=tanh, model__neurons=32, model__optimizer=sgd; total time=  36.1s\n",
      "[CV] END batch_size=16, epochs=30, model__activation=tanh, model__neurons=32, model__optimizer=sgd; total time=  33.4s\n",
      "[CV] END batch_size=16, epochs=30, model__activation=tanh, model__neurons=32, model__optimizer=sgd; total time=  41.0s\n",
      "[CV] END batch_size=16, epochs=30, model__activation=relu, model__neurons=64, model__optimizer=sgd; total time=  33.1s\n",
      "[CV] END batch_size=16, epochs=30, model__activation=relu, model__neurons=64, model__optimizer=sgd; total time=  35.1s\n",
      "[CV] END batch_size=16, epochs=30, model__activation=relu, model__neurons=64, model__optimizer=sgd; total time=  33.0s\n"
     ]
    }
   ],
   "source": [
    "from sklearn.model_selection import RandomizedSearchCV\n",
    "\n",
    "model = KerasClassifier(model=create_model, verbose=0)\n",
    "\n",
    "random = RandomizedSearchCV(estimator=model,\n",
    "                                   param_distributions=params,\n",
    "                                   n_iter=5,      \n",
    "                                   cv=3,           \n",
    "                                   verbose=2)\n",
    "\n",
    "search_result = random.fit(X_train_scaled, y_train)"
   ]
  },
  {
   "cell_type": "code",
   "execution_count": 20,
   "id": "fc636e3e-c29f-431c-96f3-361ede133028",
   "metadata": {},
   "outputs": [
    {
     "name": "stdout",
     "output_type": "stream",
     "text": [
      "Best params: {'model__optimizer': 'adam', 'model__neurons': 128, 'model__activation': 'tanh', 'epochs': 20, 'batch_size': 64}\n",
      "Best score: 0.7418756229444693\n"
     ]
    }
   ],
   "source": [
    "print(\"Best params:\", search_result.best_params_)\n",
    "print(\"Best score:\", search_result.best_score_)"
   ]
  }
 ],
 "metadata": {
  "kernelspec": {
   "display_name": "Python 3 (ipykernel)",
   "language": "python",
   "name": "python3"
  },
  "language_info": {
   "codemirror_mode": {
    "name": "ipython",
    "version": 3
   },
   "file_extension": ".py",
   "mimetype": "text/x-python",
   "name": "python",
   "nbconvert_exporter": "python",
   "pygments_lexer": "ipython3",
   "version": "3.11.13"
  }
 },
 "nbformat": 4,
 "nbformat_minor": 5
}
